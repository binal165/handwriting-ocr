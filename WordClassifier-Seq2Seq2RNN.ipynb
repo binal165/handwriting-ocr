{
 "cells": [
  {
   "cell_type": "markdown",
   "metadata": {},
   "source": [
    "# Recurrent Neural Network - Word Classification\n",
    "## Using Special model\n",
    "Implemented in TensorFlow. Using Seq2Seq to generate the sequence of letter images and recognise them by RNN.\n",
    "## TODO\n",
    "```\n",
    "OPTIMIZERS\n",
    "Training options: complete, only letters, only words\n",
    "Overlaping sliders\n",
    "One-shot preprocessing\n",
    "CNN preprocessing\n",
    "```"
   ]
  },
  {
   "cell_type": "code",
   "execution_count": 1,
   "metadata": {},
   "outputs": [
    {
     "name": "stdout",
     "output_type": "stream",
     "text": [
      "Tensorflow 1.4.0\n"
     ]
    }
   ],
   "source": [
    "import numpy as np\n",
    "import pandas as pd\n",
    "import matplotlib as plt\n",
    "import tensorflow as tf\n",
    "import tensorflow.contrib.seq2seq as seq2seq\n",
    "from tensorflow.python.layers import core as layers_core\n",
    "from tensorflow.python.ops import math_ops\n",
    "import time\n",
    "import math\n",
    "import unidecode\n",
    "\n",
    "from ocr.datahelpers import loadWordsData, correspondingShuffle\n",
    "from ocr.helpers import implt, extendImg, resize\n",
    "from ocr.mlhelpers import TrainingPlot\n",
    "from ocr.normalization import letterNorm, imageStandardization\n",
    "from ocr.tfhelpers import Graph, create_cell\n",
    "\n",
    "%matplotlib notebook\n",
    "# Increase size of images\n",
    "plt.rcParams['figure.figsize'] = (9.0, 5.0)\n",
    "\n",
    "tf.reset_default_graph()\n",
    "sess = tf.InteractiveSession()\n",
    "print('Tensorflow', tf.__version__)"
   ]
  },
  {
   "cell_type": "markdown",
   "metadata": {},
   "source": [
    "### Loading images"
   ]
  },
  {
   "cell_type": "code",
   "execution_count": 2,
   "metadata": {},
   "outputs": [],
   "source": [
    "LANG = 'en'"
   ]
  },
  {
   "cell_type": "code",
   "execution_count": 3,
   "metadata": {},
   "outputs": [
    {
     "name": "stdout",
     "output_type": "stream",
     "text": [
      "Loading words...\n",
      "-> Number of words: 1008\n"
     ]
    }
   ],
   "source": [
    "images, labels, gaplines = loadWordsData(['data/words/'],\n",
    "                               loadGaplines=True)\n",
    "\n",
    "if LANG == 'en':\n",
    "    for i in range(len(labels)):\n",
    "        labels[i] = unidecode.unidecode(labels[i])"
   ]
  },
  {
   "cell_type": "code",
   "execution_count": 4,
   "metadata": {},
   "outputs": [
    {
     "name": "stdout",
     "output_type": "stream",
     "text": [
      "Number of chars: 52\n"
     ]
    }
   ],
   "source": [
    "CHARS = ['A', 'a', 'Á', 'á', 'B', 'b', 'C', 'c', 'Č', 'č',\n",
    "         'D', 'd', 'Ď', 'ď', 'E', 'e', 'É', 'é', 'Ě', 'ě',\n",
    "         'F', 'f', 'G', 'g', 'H', 'h', 'I', 'i', 'Í', 'í',         \n",
    "         'J', 'j', 'K', 'k', 'L', 'l', 'M', 'm', 'N', 'n',\n",
    "         'Ň', 'ň', 'O', 'o', 'Ó', 'ó', 'P', 'p', 'Q', 'q',\n",
    "         'R', 'r', 'Ř', 'ř', 'S', 's', 'Š', 'š', 'T', 't',\n",
    "         'Ť', 'ť', 'U', 'u', 'Ú', 'ú', 'Ů', 'ů', 'V', 'v',\n",
    "         'W', 'w', 'X', 'x', 'Y', 'y', 'Ý', 'ý', 'Z', 'z',\n",
    "         'Ž', 'ž']\n",
    "if LANG == 'en':\n",
    "    CHARS = ['A', 'B', 'C', 'D', 'E', 'F', 'G', 'H', 'I',\n",
    "             'J', 'K', 'L', 'M', 'N', 'O', 'P', 'Q', 'R', 'S',\n",
    "             'T', 'U', 'V', 'W', 'X', 'Y', 'Z', 'a', 'b', 'c',\n",
    "             'd', 'e', 'f', 'g', 'h', 'i', 'j', 'k', 'l', 'm',\n",
    "             'n', 'o', 'p', 'q', 'r', 's', 't', 'u', 'v', 'w',\n",
    "             'x', 'y', 'z']\n",
    "\n",
    "print(\"Number of chars:\", len(CHARS))"
   ]
  },
  {
   "cell_type": "markdown",
   "metadata": {},
   "source": [
    "## Settings"
   ]
  },
  {
   "cell_type": "code",
   "execution_count": 5,
   "metadata": {},
   "outputs": [],
   "source": [
    "PAD = 0   # Padding\n",
    "EOS = 1   # End of seq\n",
    "LETTER_PAD = -1.0\n",
    "\n",
    "num_buckets = 5\n",
    "slider_size = (60, 15)\n",
    "slider_step = 2\n",
    "N_INPUT = slider_size[0]*slider_size[1]\n",
    "char_size = len(CHARS) + 1\n",
    "letter_size = 64*64\n",
    "\n",
    "encoder_layers = 2\n",
    "encoder_residual_layers = 1        # HAVE TO be smaller than encoder_layers\n",
    "encoder_units = 64\n",
    "\n",
    "decoder_layers = 2*encoder_layers  # 2* is due to the bidirectional encoder\n",
    "decoder_residual_layers = 2*encoder_residual_layers\n",
    "decoder_units = encoder_units\n",
    "\n",
    "wordRNN_layers = 4\n",
    "wordRNN_residual_layers = 2\n",
    "wordRNN_units = 128\n",
    "\n",
    "attention_size = 256\n",
    "\n",
    "add_output_length = 4\n",
    "\n",
    "learning_rate = 1e-4               # 1e-4\n",
    "max_gradient_norm = 5.0            # For gradient clipping\n",
    "dropout = 0.4\n",
    "train_per = 0.8                    # Percentage of training data\n",
    "\n",
    "TRAIN_STEPS = 100000               # Number of training steps!\n",
    "TEST_ITER = 150\n",
    "LOSS_ITER = 50\n",
    "SAVE_ITER = 2000\n",
    "BATCH_SIZE = 32\n",
    "EPOCH = 2000                       # Number of batches in epoch - not accurate\n",
    "save_location = 'models/word-clas/' + LANG + '/SeqRNN/Classifier'"
   ]
  },
  {
   "cell_type": "markdown",
   "metadata": {},
   "source": [
    "## Dataset"
   ]
  },
  {
   "cell_type": "code",
   "execution_count": 6,
   "metadata": {},
   "outputs": [
    {
     "name": "stdout",
     "output_type": "stream",
     "text": [
      "Training images: 806\n",
      "Testing images: 202\n"
     ]
    }
   ],
   "source": [
    "# Shuffle data for later splitting\n",
    "images, labels, gaplines = correspondingShuffle([images, labels, gaplines])\n",
    "\n",
    "idxs = [i+1 for i in range(char_size)]\n",
    "idx_to_chars = dict(zip(idxs, CHARS))\n",
    "chars_to_idx = dict(zip(CHARS, idxs))\n",
    "\n",
    "labels_idx = np.empty(len(labels), dtype=object)\n",
    "for i, label in enumerate(labels):\n",
    "    labels_idx[i] = [chars_to_idx[c] for c in label]\n",
    "\n",
    "# Split data on train and test dataset\n",
    "div = int(train_per * len(images))\n",
    "\n",
    "trainImages = images[0:div]\n",
    "testImages = images[div:]\n",
    "\n",
    "trainGaplines = gaplines[0:div]\n",
    "testGaplines = gaplines[div:]\n",
    "\n",
    "trainLabels_idx = labels_idx[0:div]\n",
    "testLabels_idx = labels_idx[div:]\n",
    "\n",
    "print(\"Training images:\", div)\n",
    "print(\"Testing images:\", len(images) - div)"
   ]
  },
  {
   "cell_type": "code",
   "execution_count": 8,
   "metadata": {},
   "outputs": [],
   "source": [
    "class BucketDataIterator():\n",
    "    \"\"\" Iterator for feeding seq2seq model during training \"\"\"\n",
    "    def __init__(self,\n",
    "                 images,\n",
    "                 targets,\n",
    "                 gaplines,\n",
    "                 num_buckets=5,\n",
    "                 slider=(60, 30),\n",
    "                 slider_step=2,\n",
    "                 train=True):\n",
    "        \n",
    "        self.train = train\n",
    "        self.slider = slider\n",
    "        \n",
    "        # PADDING of images to slider size ( -(a // b) ==  ceil(a/b))\n",
    "        # And image standardization\n",
    "        for i in range(len(images)):\n",
    "            images[i] = extendImg(\n",
    "                images[i],\n",
    "                (images[i].shape[0], -(-images[i].shape[1] // slider[1]) * slider[1]))\n",
    "#             images[i] = imageStandardization(images[i])\n",
    "        in_length = [image.shape[1]//slider[1] for image in images]\n",
    "        \n",
    "        # Split images to sequence of vectors\n",
    "        img_seq = np.empty(len(images), dtype=object)\n",
    "        for i, img in enumerate(images):\n",
    "            img_seq[i] = [imageStandardization(\n",
    "                img[:, loc * slider[1]: (loc+1) * slider[1]]).flatten()\n",
    "                          for loc in range(in_length[i])]\n",
    "            \n",
    "        end_letter = np.ones(letter_size) * LETTER_PAD\n",
    "        np.put(end_letter, [0], [1])\n",
    "        letter_seq = np.empty(len(images), dtype=object)\n",
    "        for i, img in enumerate(images):\n",
    "            letter_seq[i] = [imageStandardization(\n",
    "                letterNorm(img[:, gaplines[i][x]:gaplines[i][x+1]])).flatten()\n",
    "                             for x in range(len(gaplines[i])-1)]\n",
    "#             for x in range(len(letter_seq[i])):\n",
    "#                 np.put(letter_seq[i][x], [0, 1], [1, -1])\n",
    "            letter_seq[i].append(end_letter)\n",
    "\n",
    "        # Create pandas dataFrame and sort it by images width (length)\n",
    "        # letters_length is num_letter + EOS\n",
    "        self.dataFrame = pd.DataFrame({'in_length': in_length,\n",
    "                                       'letters_length': [len(g) for g in gaplines],\n",
    "                                       'words_length': [len(t) for t in targets],\n",
    "                                       'in_images': img_seq,\n",
    "                                       'letters': letter_seq,\n",
    "                                       'words': targets\n",
    "                                      }).sort_values('in_length').reset_index(drop=True)\n",
    "\n",
    "        bsize = int(len(images) / num_buckets)\n",
    "        self.num_buckets = num_buckets\n",
    "        \n",
    "        # Create buckets by slicing parts by indexes\n",
    "        self.buckets = []\n",
    "        for bucket in range(num_buckets-1):\n",
    "            self.buckets.append(self.dataFrame.iloc[bucket * bsize: (bucket+1) * bsize])\n",
    "        self.buckets.append(self.dataFrame.iloc[(num_buckets-1) * bsize:])        \n",
    "        \n",
    "        self.buckets_size = [len(bucket) for bucket in self.buckets]\n",
    "\n",
    "        # cursor[i] will be the cursor for the ith bucket\n",
    "        self.cursor = np.array([0] * num_buckets)\n",
    "        self.bucket_order = np.random.permutation(num_buckets)\n",
    "        self.bucket_cursor = 0\n",
    "        self.shuffle()\n",
    "        print(\"Iterator created.\")\n",
    "\n",
    "        \n",
    "    def shuffle(self, idx=None):\n",
    "        \"\"\" Shuffle idx bucket or each bucket separately \"\"\"\n",
    "        for i in [idx] if idx is not None else range(self.num_buckets):\n",
    "            self.buckets[i] = self.buckets[i].sample(frac=1).reset_index(drop=True)\n",
    "            self.cursor[i] = 0\n",
    "\n",
    "\n",
    "    def next_batch(self, batch_size):\n",
    "        \"\"\"\n",
    "        Creates next training batch of size: batch_size\n",
    "        Retruns: (in_images, letters, words,\n",
    "                  in_length, letter_length, word_length)\n",
    "        \"\"\"\n",
    "        i_bucket = self.bucket_order[self.bucket_cursor]\n",
    "        # Increment cursor and shuffle in case of new round\n",
    "        self.bucket_cursor = (self.bucket_cursor + 1) % self.num_buckets\n",
    "        if self.bucket_cursor == 0:\n",
    "            self.bucket_order = np.random.permutation(self.num_buckets)\n",
    "            \n",
    "        if self.cursor[i_bucket] + batch_size > self.buckets_size[i_bucket]:\n",
    "            self.shuffle(i_bucket)\n",
    "\n",
    "        # Handle too big batch sizes\n",
    "        if (batch_size > self.buckets_size[i_bucket]):\n",
    "            batch_size = self.buckets_size[i_bucket]\n",
    "\n",
    "        res = self.buckets[i_bucket].iloc[self.cursor[i_bucket]:\n",
    "                                          self.cursor[i_bucket]+batch_size]\n",
    "        self.cursor[i_bucket] += batch_size\n",
    "        \n",
    "        # Check correct length of later prediction of sequences\n",
    "        assert np.all(res['in_length'] + add_output_length >= res['letters_length'])\n",
    "\n",
    "        input_max = max(res['in_length'])\n",
    "        letters_max = max(res['letters_length'])\n",
    "        words_max = max(res['words_length'])        \n",
    "        \n",
    "        input_seq = np.ones((batch_size, input_max, N_INPUT), dtype=np.float32) * LETTER_PAD\n",
    "        for i, img in enumerate(res['in_images']):\n",
    "            input_seq[i][:res['in_length'].values[i]] = img\n",
    "        input_seq = input_seq.swapaxes(0, 1)    # Time major\n",
    "        \n",
    "        letters = np.ones((batch_size, letters_max, letter_size), dtype=np.float32) * LETTER_PAD\n",
    "        for i, img in enumerate(res['letters']):\n",
    "            letters[i][:res['letters_length'].values[i]] = img\n",
    "        \n",
    "        # Need to pad according to the maximum length output sequence\n",
    "        words = np.zeros([batch_size, words_max], dtype=np.int32)\n",
    "        for i, word in enumerate(res['words']):\n",
    "            words[i][:res['words_length'].values[i]] = word\n",
    "        \n",
    "        return (input_seq, letters, words,\n",
    "                res['in_length'].values, res['letters_length'].values, res['words_length'].values)\n",
    "\n",
    "\n",
    "    def next_feed(self, size, words=True):\n",
    "        \"\"\" Create feed directly for model training \"\"\"\n",
    "        (encoder_inputs_,\n",
    "         letter_targets_,\n",
    "         word_targets_,\n",
    "         encoder_inputs_length_,\n",
    "         letter_targets_length_,\n",
    "         word_targets_length_) = self.next_batch(size)\n",
    "        return {\n",
    "            encoder_inputs: encoder_inputs_,\n",
    "            encoder_inputs_length: encoder_inputs_length_,\n",
    "            letter_targets: letter_targets_,\n",
    "            letter_targets_length: letter_targets_length_,\n",
    "            word_targets: word_targets_,\n",
    "            word_targets_length: word_targets_length_,\n",
    "            keep_prob: (1.0 - dropout) if self.train else 1.0,\n",
    "            is_training: self.train,\n",
    "            is_words: words\n",
    "        }"
   ]
  },
  {
   "cell_type": "code",
   "execution_count": 9,
   "metadata": {},
   "outputs": [
    {
     "name": "stdout",
     "output_type": "stream",
     "text": [
      "Iterator created.\n",
      "Iterator created.\n"
     ]
    }
   ],
   "source": [
    "# Create iterator for feeding RNN\n",
    "# Create only once, it modifies: labels_idx\n",
    "train_iterator = BucketDataIterator(trainImages,\n",
    "                                    trainLabels_idx,\n",
    "                                    trainGaplines,\n",
    "                                    num_buckets,\n",
    "                                    slider_size,\n",
    "                                    slider_step,\n",
    "                                    train=True)\n",
    "test_iterator = BucketDataIterator(testImages,\n",
    "                                   testLabels_idx,\n",
    "                                   testGaplines,\n",
    "                                   num_buckets,\n",
    "                                   slider_size,\n",
    "                                   slider_step,\n",
    "                                   train=False)"
   ]
  },
  {
   "cell_type": "markdown",
   "metadata": {},
   "source": [
    "## Placeholders"
   ]
  },
  {
   "cell_type": "code",
   "execution_count": 11,
   "metadata": {},
   "outputs": [],
   "source": [
    "# Only encoder inputs are time major\n",
    "# Encoder inputs shape (max_seq_length, batch_size, vec_size)\n",
    "encoder_inputs = tf.placeholder(shape=(None, None, N_INPUT),\n",
    "                                dtype=tf.float32,\n",
    "                                name='encoder_inputs')\n",
    "encoder_inputs_length = tf.placeholder(shape=(None,),\n",
    "                                       dtype=tf.int32,\n",
    "                                       name='encoder_inputs_length')\n",
    "\n",
    "# Required for letter sep. training\n",
    "# Contains EOS symbol\n",
    "letter_targets = tf.placeholder(shape=(None, None, letter_size),\n",
    "                                dtype=tf.float32,\n",
    "                                name='letter_targets')\n",
    "letter_targets_length = tf.placeholder(shape=(None,),\n",
    "                                       dtype=tf.int32,\n",
    "                                       name='letter_targets_length')\n",
    "\n",
    "# Required for word training\n",
    "word_targets = tf.placeholder(shape=(None, None),\n",
    "                              dtype=tf.int32,\n",
    "                              name='word_targets')\n",
    "word_targets_length = tf.placeholder(shape=(None,),\n",
    "                                     dtype=tf.int32,\n",
    "                                     name='word_targets_length')\n",
    "# Dropout value\n",
    "keep_prob = tf.placeholder(tf.float32, name='keep_prob')\n",
    "# Testing control\n",
    "is_training = tf.placeholder(tf.bool, shape=None, name=\"is_training\")\n",
    "is_words = tf.placeholder(tf.bool, shape=None, name=\"is_words\")"
   ]
  },
  {
   "cell_type": "markdown",
   "metadata": {},
   "source": [
    "### Decoder Train Feeds"
   ]
  },
  {
   "cell_type": "code",
   "execution_count": 12,
   "metadata": {},
   "outputs": [],
   "source": [
    "sequence_size, batch_size, _ = tf.unstack(tf.shape(encoder_inputs)) # letter_targets\n",
    "\n",
    "EOS_SLICE = tf.cast(tf.fill([batch_size, 1, letter_size], EOS), tf.float32)\n",
    "PAD_SLICE = tf.cast(tf.fill([batch_size, 1, letter_size], LETTER_PAD), tf.float32) # PAD\n",
    "\n",
    "# Train inputs with EOS symbol at start of seq\n",
    "letter_train_inputs = tf.concat([PAD_SLICE, letter_targets], axis=1) #EOS_SLICE\n",
    "letter_train_length = letter_targets_length\n",
    "\n",
    "# Length of infer (test) letter output\n",
    "# TODO: will have to make shorte...\n",
    "output_length = tf.reduce_max(encoder_inputs_length) + add_output_length"
   ]
  },
  {
   "cell_type": "markdown",
   "metadata": {},
   "source": [
    "## Encoder"
   ]
  },
  {
   "cell_type": "code",
   "execution_count": 13,
   "metadata": {},
   "outputs": [],
   "source": [
    "enc_cell_fw = create_cell(encoder_units,\n",
    "                          encoder_layers,\n",
    "                          encoder_residual_layers,\n",
    "                          is_dropout=True,\n",
    "                          keep_prob=keep_prob)\n",
    "enc_cell_bw = create_cell(encoder_units,\n",
    "                          encoder_layers,\n",
    "                          encoder_residual_layers,\n",
    "                          is_dropout=True,\n",
    "                          keep_prob=keep_prob)"
   ]
  },
  {
   "cell_type": "code",
   "execution_count": 14,
   "metadata": {},
   "outputs": [],
   "source": [
    "inputs = encoder_inputs\n",
    "\n",
    "# Bidirectional RNN, gibe fw and bw outputs separately\n",
    "enc_outputs, enc_state = tf.nn.bidirectional_dynamic_rnn(\n",
    "    cell_fw = enc_cell_fw,\n",
    "    cell_bw = enc_cell_bw,\n",
    "    inputs = inputs,\n",
    "    sequence_length = encoder_inputs_length,\n",
    "    dtype = tf.float32,\n",
    "    time_major = True)\n",
    "\n",
    "encoder_outputs = tf.concat(enc_outputs, -1)\n",
    "\n",
    "if encoder_layers == 1:\n",
    "    encoder_state = enc_state\n",
    "else:\n",
    "    encoder_state = []\n",
    "    for layer_id in range(encoder_layers):\n",
    "        encoder_state.append(enc_state[0][layer_id])  # forward\n",
    "        encoder_state.append(enc_state[1][layer_id])  # backward\n",
    "    encoder_state = tuple(encoder_state)"
   ]
  },
  {
   "cell_type": "markdown",
   "metadata": {},
   "source": [
    "## Decoder"
   ]
  },
  {
   "cell_type": "code",
   "execution_count": 15,
   "metadata": {},
   "outputs": [],
   "source": [
    "# attention_states: size [batch_size, max_time, num_units]\n",
    "attention_states = tf.transpose(encoder_outputs, [1, 0, 2])\n",
    "\n",
    "# Create an attention mechanism\n",
    "attention_mechanism = seq2seq.LuongAttention(\n",
    "    decoder_units, attention_states,\n",
    "    memory_sequence_length=encoder_inputs_length)\n",
    "\n",
    "decoder_cell = create_cell(decoder_units,\n",
    "                           decoder_layers,\n",
    "                           decoder_residual_layers,\n",
    "                           is_dropout=True,\n",
    "                           keep_prob=keep_prob)\n",
    "\n",
    "decoder_cell = seq2seq.AttentionWrapper(\n",
    "    decoder_cell, attention_mechanism,\n",
    "    attention_layer_size=attention_size)\n",
    "\n",
    "decoder_initial_state = decoder_cell.zero_state(batch_size, tf.float32).clone(\n",
    "    cell_state=encoder_state)"
   ]
  },
  {
   "cell_type": "markdown",
   "metadata": {},
   "source": [
    "#### TRAIN DECODER"
   ]
  },
  {
   "cell_type": "code",
   "execution_count": 16,
   "metadata": {},
   "outputs": [],
   "source": [
    "# Helper\n",
    "helper = seq2seq.TrainingHelper(\n",
    "    letter_train_inputs, letter_targets_length)\n",
    "\n",
    "# Decoder\n",
    "projection_layer = layers_core.Dense(\n",
    "    letter_size, activation=tf.tanh, use_bias=False)\n",
    "\n",
    "decoder = seq2seq.BasicDecoder(\n",
    "    decoder_cell, helper, decoder_initial_state,\n",
    "    output_layer=projection_layer)\n",
    "\n",
    "# Dynamic decoding\n",
    "outputs, final_context_state, _ = seq2seq.dynamic_decode(\n",
    "    decoder)\n",
    "\n",
    "letter_logits_train = outputs.rnn_output\n",
    "letter_prediction_train = outputs.sample_id"
   ]
  },
  {
   "cell_type": "markdown",
   "metadata": {},
   "source": [
    "#### INFERENCE DECODER"
   ]
  },
  {
   "cell_type": "code",
   "execution_count": 17,
   "metadata": {},
   "outputs": [],
   "source": [
    "# Helper without embedding, can add param: 'next_inputs_fn'\n",
    "helper_infer = seq2seq.InferenceHelper(\n",
    "    sample_fn=(lambda x: x),\n",
    "    sample_shape=[letter_size],\n",
    "    sample_dtype=tf.float32,\n",
    "    start_inputs=tf.cast(tf.fill([batch_size, letter_size], PAD), tf.float32), # PAD <- EOS, need flaot32\n",
    "    end_fn=(lambda sample_ids:\n",
    "            tf.greater(sample_ids[:, 0], 0)))\n",
    "#             math_ops.equal(tf.argmax(sample_ids[:, :2], axis=-1), 1))) # ID - is image or not, first 2 pixels\n",
    "\n",
    "decoder_infer = seq2seq.BasicDecoder(\n",
    "    decoder_cell, helper_infer, decoder_initial_state,\n",
    "    output_layer=projection_layer)\n",
    "\n",
    "# Dynamic decoding\n",
    "outputs_infer, final_context_state, final_seq_lengths = seq2seq.dynamic_decode(\n",
    "    decoder_infer,\n",
    "    impute_finished=True,\n",
    "    maximum_iterations=output_length)\n",
    "\n",
    "letter_prediction_infer = tf.identity(outputs_infer.rnn_output, # sample_id\n",
    "                                      name='letter_prediction_infer')"
   ]
  },
  {
   "cell_type": "markdown",
   "metadata": {},
   "source": [
    "## RNN"
   ]
  },
  {
   "cell_type": "code",
   "execution_count": 18,
   "metadata": {},
   "outputs": [],
   "source": [
    "cell_RNN = create_cell(wordRNN_units,\n",
    "                       wordRNN_layers,\n",
    "                       wordRNN_residual_layers,\n",
    "                       is_dropout=True,\n",
    "                       keep_prob=keep_prob)\n",
    "\n",
    "word_inputs = tf.cond(is_training,\n",
    "                      lambda: letter_targets,\n",
    "                      lambda: letter_prediction_infer)\n",
    "word_inputs_length = tf.cond(is_training,\n",
    "                             lambda: letter_targets_length,\n",
    "                             lambda: final_seq_lengths)\n",
    "\n",
    "# Word RNN\n",
    "word_outputs, _ = tf.nn.dynamic_rnn(\n",
    "    cell = cell_RNN,\n",
    "    inputs = word_inputs,\n",
    "    sequence_length = word_inputs_length,\n",
    "    dtype = tf.float32)\n",
    "\n",
    "word_logits = tf.layers.dense(\n",
    "    inputs=word_outputs,\n",
    "    units=char_size,\n",
    "    name='pred')\n",
    "word_prediction = tf.argmax(\n",
    "    word_logits, axis=-1, output_type=tf.int32,\n",
    "    name='word_prediction')"
   ]
  },
  {
   "cell_type": "markdown",
   "metadata": {},
   "source": [
    "## Optimizer"
   ]
  },
  {
   "cell_type": "markdown",
   "metadata": {},
   "source": [
    "#### Weights + Paddings"
   ]
  },
  {
   "cell_type": "code",
   "execution_count": 19,
   "metadata": {},
   "outputs": [],
   "source": [
    "# Pad test accuracy\n",
    "letter_test_targets = tf.pad(\n",
    "    letter_targets,\n",
    "    [[0, 0],\n",
    "     [0, output_length - tf.reduce_max(letter_targets_length)],\n",
    "     [0, 0]],\n",
    "    constant_values=LETTER_PAD,\n",
    "    mode='CONSTANT')\n",
    "\n",
    "# Pad prediction to match lengths\n",
    "letter_pred_infer_pad = tf.pad(\n",
    "    letter_prediction_infer,\n",
    "    [[0, 0],\n",
    "     [0, output_length - tf.reduce_max(word_inputs_length)],\n",
    "     [0, 0]],\n",
    "    constant_values=LETTER_PAD,\n",
    "    mode='CONSTANT')\n",
    "\n",
    "\n",
    "word_pad_lenght = tf.maximum(\n",
    "    tf.reduce_max(word_inputs_length),\n",
    "    tf.reduce_max(word_targets_length))\n",
    "\n",
    "word_logits_pad = tf.pad(\n",
    "    word_logits,\n",
    "    [[0, 0],\n",
    "     [0, word_pad_lenght - tf.reduce_max(word_inputs_length)],\n",
    "     [0, 0]],\n",
    "    constant_values=PAD,\n",
    "    mode='CONSTANT')\n",
    "word_pred_pad = tf.pad(\n",
    "    word_prediction,\n",
    "    [[0, 0],\n",
    "     [0, word_pad_lenght - tf.reduce_max(word_inputs_length)]],\n",
    "    constant_values=PAD,\n",
    "    mode='CONSTANT')\n",
    "word_targets_pad = tf.pad(\n",
    "    word_targets,\n",
    "    [[0, 0],\n",
    "     [0, word_pad_lenght - tf.reduce_max(word_targets_length)]],\n",
    "    constant_values=PAD,\n",
    "    mode='CONSTANT')\n",
    "\n",
    "\n",
    "# Weights\n",
    "letter_loss_weights = tf.sequence_mask(\n",
    "    letter_train_length,\n",
    "    tf.reduce_max(letter_train_length),\n",
    "    dtype=tf.float32)\n",
    "\n",
    "letter_test_weights = tf.sequence_mask(\n",
    "    letter_train_length,\n",
    "    output_length,\n",
    "    dtype=tf.float32)\n",
    "\n",
    "word_loss_weights = tf.sequence_mask(\n",
    "    word_inputs_length,    # word_targets_length\n",
    "    word_pad_lenght,\n",
    "    dtype=tf.float32)"
   ]
  },
  {
   "cell_type": "code",
   "execution_count": 20,
   "metadata": {},
   "outputs": [],
   "source": [
    "## Loss\n",
    "letter_loss = tf.losses.mean_squared_error(\n",
    "    predictions=letter_logits_train,\n",
    "    labels=letter_targets,\n",
    "    weights=tf.stack([letter_loss_weights for i in range(letter_size)], axis=-1))\n",
    "\n",
    "word_loss = seq2seq.sequence_loss(\n",
    "    logits=word_logits_pad,\n",
    "    targets=word_targets_pad,\n",
    "    weights=word_loss_weights,\n",
    "    name='word_loss')\n",
    "\n",
    "loss = tf.cond(is_words,\n",
    "               lambda: word_loss,\n",
    "               lambda: letter_loss)\n",
    "\n",
    "## Calculate and clip gradients\n",
    "params = tf.trainable_variables()\n",
    "gradients = tf.gradients(loss, params)\n",
    "clipped_gradients, _ = tf.clip_by_global_norm(\n",
    "    gradients, max_gradient_norm)\n",
    "\n",
    "### Optimization\n",
    "optimizer = tf.train.AdamOptimizer(learning_rate)\n",
    "train_step = optimizer.apply_gradients(\n",
    "    zip(clipped_gradients, params),\n",
    "    name='train_step')\n",
    "\n",
    "# TODO: Somehow measure letter accuracy\n",
    "\n",
    "### Evaluate model\n",
    "correct_prediction = tf.equal(\n",
    "    word_pred_pad,\n",
    "    word_targets_pad)\n",
    "## Advanced accuracy only the elements of seq including EOS symbol\n",
    "# accuracy = tf.reduce_mean(tf.cast(correct_prediction, tf.float32))\n",
    "accuracy = (tf.reduce_sum(tf.cast(correct_prediction, tf.float32) * word_loss_weights) \\\n",
    "            / tf.reduce_sum(word_loss_weights))"
   ]
  },
  {
   "cell_type": "code",
   "execution_count": 21,
   "metadata": {},
   "outputs": [
    {
     "name": "stdout",
     "output_type": "stream",
     "text": [
      "(32, 11, 4096)\n"
     ]
    }
   ],
   "source": [
    "sess.run(tf.global_variables_initializer())\n",
    "fd  = test_iterator.next_feed(32)\n",
    "pre = letter_prediction_infer.eval(fd)\n",
    "print(pre.shape)"
   ]
  },
  {
   "cell_type": "markdown",
   "metadata": {},
   "source": [
    "## Training"
   ]
  },
  {
   "cell_type": "code",
   "execution_count": 22,
   "metadata": {
    "scrolled": false
   },
   "outputs": [
    {
     "name": "stdout",
     "output_type": "stream",
     "text": [
      "batch 0 - loss: 3.9627104\n",
      "    expected  > [42 41 46 44 31 28 27 39 35  0]\n",
      "    predicted > [49  0  0  0  0  0  0  0  0  0  0  0  0  0  0  0  0  0  0  0  0  0  0  0  0]\n",
      "    expected  > [40 41 29  0  0  0  0  0  0  0]\n",
      "    predicted > [ 5  5  5  5 17 17 17 17 17 17 17 17 17 17 17 17 17 17 17 17 17 17 17 17 17]\n",
      "\n"
     ]
    },
    {
     "data": {
      "text/plain": [
       "'models/word-clas/en/SeqRNN/Classifier'"
      ]
     },
     "execution_count": 22,
     "metadata": {},
     "output_type": "execute_result"
    },
    {
     "data": {
      "image/png": "[encoded data removed]",
      "text/plain": [
       "<matplotlib.figure.Figure at 0x7fb13c7e26d8>"
      ]
     },
     "metadata": {},
     "output_type": "display_data"
    }
   ],
   "source": [
    "sess.run(tf.global_variables_initializer())\n",
    "saver = tf.train.Saver()\n",
    "\n",
    "# Creat plot for live stats ploting\n",
    "trainPlot = TrainingPlot(TRAIN_STEPS, TEST_ITER, LOSS_ITER)\n",
    "\n",
    "try:\n",
    "    for i_batch in range(TRAIN_STEPS):\n",
    "        is_words_ = True\n",
    "        if i_batch < 20000 or i_batch % 2 == 0:\n",
    "            is_words_ = False\n",
    "        fd = train_iterator.next_feed(BATCH_SIZE, words=is_words_)\n",
    "        train_step.run(fd)\n",
    "        \n",
    "        if i_batch % LOSS_ITER == 0:\n",
    "            # Plotting loss\n",
    "            tmpLoss = loss.eval(fd)\n",
    "            trainPlot.updateCost(tmpLoss, i_batch // LOSS_ITER)\n",
    "    \n",
    "        if i_batch % TEST_ITER == 0:\n",
    "            # Plotting accuracy\n",
    "            fd_test = test_iterator.next_feed(BATCH_SIZE)\n",
    "            fd = train_iterator.next_feed(BATCH_SIZE, words=True)\n",
    "            accTest = accuracy.eval(fd_test)\n",
    "            accTrain = loss.eval(fd) # accuracy.eval(fd)\n",
    "            trainPlot.updateAcc(accTest, accTrain, i_batch // TEST_ITER)\n",
    "\n",
    "        if i_batch % SAVE_ITER == 0:\n",
    "            saver.save(sess, save_location)\n",
    "        \n",
    "        if i_batch % EPOCH == 0:\n",
    "            fd_test = test_iterator.next_feed(BATCH_SIZE)\n",
    "#             print('batch %r - loss: %r' % (i_batch, sess.run(loss, fd_test)))\n",
    "#             predict_, target_ = sess.run([letter_prediction_infer, letter_targets], fd_test)\n",
    "#             for i, (inp, pred) in enumerate(zip(target_, predict_)):\n",
    "#                 implt(inp[0].reshape((64, 64)), 'gray', t=\"Expected\")\n",
    "#                 implt(pred[0].reshape((64, 64)), 'gray', t=\"Predicted\")\n",
    "#                 if i >= 1:\n",
    "#                     break\n",
    "            print('batch %r - loss: %r' % (i_batch, sess.run(loss, fd_test)))\n",
    "            predict_, target_ = sess.run([word_prediction, word_targets], fd_test)\n",
    "            for i, (inp, pred) in enumerate(zip(target_, predict_)):\n",
    "                print('    expected  > {}'.format(inp))\n",
    "                print('    predicted > {}'.format(pred))\n",
    "                if i >= 1:\n",
    "                    break\n",
    "            print()\n",
    "        break\n",
    "\n",
    "except KeyboardInterrupt:\n",
    "    print('Training interrupted, model saved.')\n",
    "    \n",
    "saver.save(sess, save_location)"
   ]
  },
  {
   "cell_type": "code",
   "execution_count": 32,
   "metadata": {},
   "outputs": [
    {
     "data": {
      "image/png": "[encoded data removed]",
      "text/plain": [
       "<matplotlib.figure.Figure at 0x7fb1395bf4e0>"
      ]
     },
     "metadata": {},
     "output_type": "display_data"
    },
    {
     "data": {
      "image/png": "[encoded data removed]",
      "text/plain": [
       "<matplotlib.figure.Figure at 0x7fb13bd0f470>"
      ]
     },
     "metadata": {},
     "output_type": "display_data"
    },
    {
     "data": {
      "image/png": "[encoded data removed]",
      "text/plain": [
       "<matplotlib.figure.Figure at 0x7fb13987a9b0>"
      ]
     },
     "metadata": {},
     "output_type": "display_data"
    },
    {
     "data": {
      "image/png": "[encoded data removed]",
      "text/plain": [
       "<matplotlib.figure.Figure at 0x7fb13bbe2470>"
      ]
     },
     "metadata": {},
     "output_type": "display_data"
    },
    {
     "data": {
      "image/png": "[encoded data removed]",
      "text/plain": [
       "<matplotlib.figure.Figure at 0x7fb13b7ff390>"
      ]
     },
     "metadata": {},
     "output_type": "display_data"
    },
    {
     "data": {
      "image/png": "[encoded data removed]",
      "text/plain": [
       "<matplotlib.figure.Figure at 0x7fb13bcf4dd8>"
      ]
     },
     "metadata": {},
     "output_type": "display_data"
    },
    {
     "data": {
      "image/png": "[encoded data removed]",
      "text/plain": [
       "<matplotlib.figure.Figure at 0x7fb13b82b5f8>"
      ]
     },
     "metadata": {},
     "output_type": "display_data"
    },
    {
     "data": {
      "image/png": "[encoded data removed]",
      "text/plain": [
       "<matplotlib.figure.Figure at 0x7fb13b8cc470>"
      ]
     },
     "metadata": {},
     "output_type": "display_data"
    },
    {
     "data": {
      "image/png": "[encoded data removed]",
      "text/plain": [
       "<matplotlib.figure.Figure at 0x7fb13bcae5f8>"
      ]
     },
     "metadata": {},
     "output_type": "display_data"
    },
    {
     "data": {
      "image/png": "[encoded data removed]",
      "text/plain": [
       "<matplotlib.figure.Figure at 0x7fb1398bd6a0>"
      ]
     },
     "metadata": {},
     "output_type": "display_data"
    },
    {
     "data": {
      "image/png": "[encoded data removed]",
      "text/plain": [
       "<matplotlib.figure.Figure at 0x7fb139cdaf98>"
      ]
     },
     "metadata": {},
     "output_type": "display_data"
    },
    {
     "data": {
      "image/png": "[encoded data removed]",
      "text/plain": [
       "<matplotlib.figure.Figure at 0x7fb13c029470>"
      ]
     },
     "metadata": {},
     "output_type": "display_data"
    },
    {
     "data": {
      "image/png": "[encoded data removed]",
      "text/plain": [
       "<matplotlib.figure.Figure at 0x7fb13993a5f8>"
      ]
     },
     "metadata": {},
     "output_type": "display_data"
    },
    {
     "data": {
      "image/png": "[encoded data removed]",
      "text/plain": [
       "<matplotlib.figure.Figure at 0x7fb13bf9c6a0>"
      ]
     },
     "metadata": {},
     "output_type": "display_data"
    },
    {
     "data": {
      "image/png": "[encoded data removed]",
      "text/plain": [
       "<matplotlib.figure.Figure at 0x7fb13bc675f8>"
      ]
     },
     "metadata": {},
     "output_type": "display_data"
    },
    {
     "data": {
      "image/png": "[encoded data removed]",
      "text/plain": [
       "<matplotlib.figure.Figure at 0x7fb13bd87470>"
      ]
     },
     "metadata": {},
     "output_type": "display_data"
    },
    {
     "data": {
      "image/png": "[encoded data removed]",
      "text/plain": [
       "<matplotlib.figure.Figure at 0x7fb13bdc13c8>"
      ]
     },
     "metadata": {},
     "output_type": "display_data"
    },
    {
     "data": {
      "image/png": "[encoded data removed]",
      "text/plain": [
       "<matplotlib.figure.Figure at 0x7fb13b88b6a0>"
      ]
     },
     "metadata": {},
     "output_type": "display_data"
    },
    {
     "data": {
      "image/png": "[encoded data removed]",
      "text/plain": [
       "<matplotlib.figure.Figure at 0x7fb13b8b7128>"
      ]
     },
     "metadata": {},
     "output_type": "display_data"
    },
    {
     "data": {
      "image/png": "[encoded data removed]",
      "text/plain": [
       "<matplotlib.figure.Figure at 0x7fb139b89470>"
      ]
     },
     "metadata": {},
     "output_type": "display_data"
    },
    {
     "data": {
      "image/png": "[encoded data removed]",
      "text/plain": [
       "<matplotlib.figure.Figure at 0x7fb139ca65f8>"
      ]
     },
     "metadata": {},
     "output_type": "display_data"
    },
    {
     "data": {
      "image/png": "[encoded data removed]",
      "text/plain": [
       "<matplotlib.figure.Figure at 0x7fb1398956a0>"
      ]
     },
     "metadata": {},
     "output_type": "display_data"
    },
    {
     "data": {
      "image/png": "[encoded data removed]",
      "text/plain": [
       "<matplotlib.figure.Figure at 0x7fb13c3445f8>"
      ]
     },
     "metadata": {},
     "output_type": "display_data"
    },
    {
     "data": {
      "image/png": "[encoded data removed]",
      "text/plain": [
       "<matplotlib.figure.Figure at 0x7fb13c2ff470>"
      ]
     },
     "metadata": {},
     "output_type": "display_data"
    },
    {
     "data": {
      "image/png": "[encoded data removed]",
      "text/plain": [
       "<matplotlib.figure.Figure at 0x7fb13c3e85f8>"
      ]
     },
     "metadata": {},
     "output_type": "display_data"
    }
   ],
   "source": [
    "%matplotlib inline\n",
    "for i, (inp, pred) in enumerate(zip(target_, predict_)):\n",
    "    for x in range(len(inp)):\n",
    "        implt(inp[x].reshape((64, 64)), 'gray', t=\"Expected\")\n",
    "    for x in range(len(pred)):\n",
    "        implt(pred[x].reshape((64, 64)), 'gray', t=\"Predicted\")\n",
    "    break"
   ]
  }
 ],
 "metadata": {
  "kernelspec": {
   "display_name": "Python 3",
   "language": "python",
   "name": "python3"
  },
  "language_info": {
   "codemirror_mode": {
    "name": "ipython",
    "version": 3
   },
   "file_extension": ".py",
   "mimetype": "text/x-python",
   "name": "python",
   "nbconvert_exporter": "python",
   "pygments_lexer": "ipython3",
   "version": "3.6.3"
  }
 },
 "nbformat": 4,
 "nbformat_minor": 2
}

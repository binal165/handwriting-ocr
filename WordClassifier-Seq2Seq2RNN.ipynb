{
 "cells": [
  {
   "cell_type": "markdown",
   "metadata": {},
   "source": [
    "# Recurrent Neural Network - Word Classification\n",
    "## Using Special model\n",
    "Implemented in TensorFlow. Using Seq2Seq to generate the sequence of letter images and recognise them by RNN.\n",
    "## TODO\n",
    "```\n",
    "Overlaping sliders\n",
    "CNN preprocessing\n",
    "Remove random border\n",
    "```"
   ]
  },
  {
   "cell_type": "code",
   "execution_count": 1,
   "metadata": {},
   "outputs": [
    {
     "name": "stdout",
     "output_type": "stream",
     "text": [
      "Tensorflow 1.4.0\n"
     ]
    }
   ],
   "source": [
    "import numpy as np\n",
    "import pandas as pd\n",
    "import matplotlib as plt\n",
    "import tensorflow as tf\n",
    "import tensorflow.contrib.seq2seq as seq2seq\n",
    "from tensorflow.python.layers import core as layers_core\n",
    "from tensorflow.python.ops import math_ops\n",
    "import time\n",
    "import math\n",
    "import unidecode\n",
    "\n",
    "from ocr.datahelpers import loadWordsData, correspondingShuffle\n",
    "from ocr.helpers import implt, extendImg, resize\n",
    "from ocr.mlhelpers import TrainingPlot\n",
    "from ocr.normalization import letterNorm, imageStandardization\n",
    "from ocr.tfhelpers import Graph, create_cell\n",
    "\n",
    "%matplotlib notebook\n",
    "# Increase size of images\n",
    "plt.rcParams['figure.figsize'] = (9.0, 5.0)\n",
    "\n",
    "tf.reset_default_graph()\n",
    "sess = tf.InteractiveSession()\n",
    "print('Tensorflow', tf.__version__)"
   ]
  },
  {
   "cell_type": "markdown",
   "metadata": {},
   "source": [
    "### Loading images"
   ]
  },
  {
   "cell_type": "code",
   "execution_count": 2,
   "metadata": {},
   "outputs": [],
   "source": [
    "LANG = 'en'"
   ]
  },
  {
   "cell_type": "code",
   "execution_count": 3,
   "metadata": {},
   "outputs": [
    {
     "name": "stdout",
     "output_type": "stream",
     "text": [
      "Loading words...\n",
      "-> Number of words: 1095\n"
     ]
    }
   ],
   "source": [
    "images, labels, gaplines = loadWordsData(['data/words2/'],\n",
    "                               loadGaplines=True)\n",
    "\n",
    "if LANG == 'en':\n",
    "    for i in range(len(labels)):\n",
    "        labels[i] = unidecode.unidecode(labels[i])"
   ]
  },
  {
   "cell_type": "code",
   "execution_count": 4,
   "metadata": {},
   "outputs": [
    {
     "name": "stdout",
     "output_type": "stream",
     "text": [
      "Number of chars: 52\n"
     ]
    }
   ],
   "source": [
    "CHARS = ['A', 'a', 'Á', 'á', 'B', 'b', 'C', 'c', 'Č', 'č',\n",
    "         'D', 'd', 'Ď', 'ď', 'E', 'e', 'É', 'é', 'Ě', 'ě',\n",
    "         'F', 'f', 'G', 'g', 'H', 'h', 'I', 'i', 'Í', 'í',         \n",
    "         'J', 'j', 'K', 'k', 'L', 'l', 'M', 'm', 'N', 'n',\n",
    "         'Ň', 'ň', 'O', 'o', 'Ó', 'ó', 'P', 'p', 'Q', 'q',\n",
    "         'R', 'r', 'Ř', 'ř', 'S', 's', 'Š', 'š', 'T', 't',\n",
    "         'Ť', 'ť', 'U', 'u', 'Ú', 'ú', 'Ů', 'ů', 'V', 'v',\n",
    "         'W', 'w', 'X', 'x', 'Y', 'y', 'Ý', 'ý', 'Z', 'z',\n",
    "         'Ž', 'ž']\n",
    "if LANG == 'en':\n",
    "    CHARS = ['A', 'B', 'C', 'D', 'E', 'F', 'G', 'H', 'I',\n",
    "             'J', 'K', 'L', 'M', 'N', 'O', 'P', 'Q', 'R', 'S',\n",
    "             'T', 'U', 'V', 'W', 'X', 'Y', 'Z', 'a', 'b', 'c',\n",
    "             'd', 'e', 'f', 'g', 'h', 'i', 'j', 'k', 'l', 'm',\n",
    "             'n', 'o', 'p', 'q', 'r', 's', 't', 'u', 'v', 'w',\n",
    "             'x', 'y', 'z']\n",
    "\n",
    "print(\"Number of chars:\", len(CHARS))"
   ]
  },
  {
   "cell_type": "markdown",
   "metadata": {},
   "source": [
    "## Settings"
   ]
  },
  {
   "cell_type": "code",
   "execution_count": 5,
   "metadata": {},
   "outputs": [],
   "source": [
    "PAD = 0   # Padding\n",
    "EOS = 1   # End of seq\n",
    "LETTER_PAD = -1.0\n",
    "\n",
    "num_buckets = 5\n",
    "slider_size = (60, 2)\n",
    "slider_step = 2\n",
    "N_INPUT = slider_size[0]*slider_size[1]\n",
    "char_size = len(CHARS) + 2\n",
    "letter_size = 64*64\n",
    "\n",
    "encoder_layers = 2\n",
    "encoder_residual_layers = 1        # HAVE TO be smaller than encoder_layers\n",
    "encoder_units = 256\n",
    "\n",
    "decoder_layers = 2*encoder_layers  # 2* is due to the bidirectional encoder\n",
    "decoder_residual_layers = 2*encoder_residual_layers\n",
    "decoder_units = encoder_units\n",
    "\n",
    "wordRNN_layers = 2\n",
    "wordRNN_residual_layers = 1\n",
    "wordRNN_units = 128\n",
    "\n",
    "attention_size = 256\n",
    "\n",
    "add_output_length = 4\n",
    "\n",
    "learning_rate = 1e-3               # 1e-4\n",
    "max_gradient_norm = 5.0            # For gradient clipping\n",
    "dropout = 0.4\n",
    "train_per = 0.8                    # Percentage of training data\n",
    "\n",
    "TRAIN_STEPS = 1000000               # Number of training steps!\n",
    "TEST_ITER = 150\n",
    "LOSS_ITER = 50\n",
    "SAVE_ITER = 2000\n",
    "BATCH_SIZE = 16                    # 64\n",
    "EPOCH = 1500                       # Number of batches in epoch - not accurate\n",
    "save_location = 'models/word-clas/' + LANG + '/SeqRNN/Classifier'"
   ]
  },
  {
   "cell_type": "markdown",
   "metadata": {},
   "source": [
    "## Dataset"
   ]
  },
  {
   "cell_type": "code",
   "execution_count": 6,
   "metadata": {},
   "outputs": [
    {
     "name": "stdout",
     "output_type": "stream",
     "text": [
      "Training images: 876\n",
      "Testing images: 219\n"
     ]
    }
   ],
   "source": [
    "# Shuffle data for later splitting\n",
    "images, labels, gaplines = correspondingShuffle([images, labels, gaplines])\n",
    "\n",
    "idxs = [i+1 for i in range(char_size)]\n",
    "idx_to_chars = dict(zip(idxs, CHARS))\n",
    "chars_to_idx = dict(zip(CHARS, idxs))\n",
    "\n",
    "labels_idx = np.empty(len(labels), dtype=object)\n",
    "for i, label in enumerate(labels):\n",
    "    labels_idx[i] = [chars_to_idx[c] for c in label]\n",
    "    labels_idx[i].append(EOS)\n",
    "\n",
    "# Split data on train and test dataset\n",
    "div = int(train_per * len(images))\n",
    "\n",
    "trainImages = images[0:div]\n",
    "testImages = images[div:]\n",
    "\n",
    "trainGaplines = gaplines[0:div]\n",
    "testGaplines = gaplines[div:]\n",
    "\n",
    "trainLabels_idx = labels_idx[0:div]\n",
    "testLabels_idx = labels_idx[div:]\n",
    "\n",
    "print(\"Training images:\", div)\n",
    "print(\"Testing images:\", len(images) - div)"
   ]
  },
  {
   "cell_type": "code",
   "execution_count": 7,
   "metadata": {},
   "outputs": [
    {
     "name": "stdout",
     "output_type": "stream",
     "text": [
      "Total train images 4380\n"
     ]
    }
   ],
   "source": [
    "def stackImage(img, a, b):\n",
    "    \"\"\" Add blank columns (lenght a, b) at start and end of image \"\"\"\n",
    "    return np.concatenate(\n",
    "        (np.zeros((img.shape[0], a)),\n",
    "         np.concatenate((img, np.zeros((img.shape[0], b))), axis=1)),\n",
    "        axis=1)\n",
    "    \n",
    "# Dont mix train and test images\n",
    "num_new_images = 4 # 2\n",
    "trainImagesF = np.empty(len(trainImages) * (num_new_images+1), dtype=object)\n",
    "trainGaplinesF = np.empty(len(trainImages) * (num_new_images+1), dtype=object)\n",
    "trainLabelsF_idx = np.empty(len(trainImages)*(num_new_images+1), dtype=object)\n",
    "for idx, img in enumerate(trainImages):\n",
    "    add_idx = idx*(num_new_images+1)\n",
    "    trainImagesF[add_idx] = img\n",
    "    trainGaplinesF[add_idx] = trainGaplines[idx]\n",
    "    trainLabelsF_idx[add_idx] = trainLabels_idx[idx]\n",
    "    for i in range(num_new_images):\n",
    "        a, b = np.random.randint(1, 16, size=2)\n",
    "        trainImagesF[add_idx + (i+1)] = stackImage(img, a, b)\n",
    "        trainGaplinesF[add_idx + (i+1)] = trainGaplines[idx] + a\n",
    "        trainLabelsF_idx[add_idx + (i+1)] = trainLabels_idx[idx]\n",
    "        \n",
    "print(\"Total train images\", len(trainImagesF))"
   ]
  },
  {
   "cell_type": "code",
   "execution_count": 8,
   "metadata": {},
   "outputs": [],
   "source": [
    "class BucketDataIterator():\n",
    "    \"\"\" Iterator for feeding seq2seq model during training \"\"\"\n",
    "    def __init__(self,\n",
    "                 images,\n",
    "                 targets,\n",
    "                 gaplines,\n",
    "                 num_buckets=5,\n",
    "                 slider=(60, 30),\n",
    "                 slider_step=2,\n",
    "                 train=True):\n",
    "        \n",
    "        self.train = train\n",
    "        self.slider = slider\n",
    "        \n",
    "        # PADDING of images to slider size ( -(a // b) ==  ceil(a/b))\n",
    "        for i in range(len(images)):\n",
    "            images[i] = extendImg(\n",
    "                images[i],\n",
    "                (images[i].shape[0], -(-images[i].shape[1] // slider[1]) * slider[1]))\n",
    "        in_length = [image.shape[1]//slider[1] for image in images]\n",
    "        \n",
    "        # Split images to sequence of vectors\n",
    "        img_seq = np.empty(len(images), dtype=object)\n",
    "        for i, img in enumerate(images):\n",
    "            img_seq[i] = [imageStandardization(\n",
    "                img[:, loc * slider[1]: (loc+1) * slider[1]]).flatten()\n",
    "                          for loc in range(in_length[i])]\n",
    "            \n",
    "        end_letter = np.ones(letter_size) # * LETTER_PAD # End letter is full white\n",
    "        np.put(end_letter, [0], [1])\n",
    "        letter_seq = np.empty(len(images), dtype=object)\n",
    "        for i, img in enumerate(images):\n",
    "            letter_seq[i] = [imageStandardization(\n",
    "                letterNorm(img[:, gaplines[i][x]:gaplines[i][x+1]])).flatten()\n",
    "                             for x in range(len(gaplines[i])-1)]\n",
    "            letter_seq[i].append(end_letter)\n",
    "\n",
    "        # Create pandas dataFrame and sort it by images width (length)\n",
    "        # letters_length is num_letter + EOS\n",
    "        self.dataFrame = pd.DataFrame({'in_length': in_length,\n",
    "                                       'letters_length': [len(g) for g in gaplines],\n",
    "                                       'words_length': [len(t) for t in targets],\n",
    "                                       'in_images': img_seq,\n",
    "                                       'letters': letter_seq,\n",
    "                                       'words': targets\n",
    "                                      }).sort_values('in_length').reset_index(drop=True)\n",
    "\n",
    "        bsize = int(len(images) / num_buckets)\n",
    "        self.num_buckets = num_buckets\n",
    "        \n",
    "        # Create buckets by slicing parts by indexes\n",
    "        self.buckets = []\n",
    "        for bucket in range(num_buckets-1):\n",
    "            self.buckets.append(self.dataFrame.iloc[bucket * bsize: (bucket+1) * bsize])\n",
    "        self.buckets.append(self.dataFrame.iloc[(num_buckets-1) * bsize:])        \n",
    "        \n",
    "        self.buckets_size = [len(bucket) for bucket in self.buckets]\n",
    "\n",
    "        # cursor[i] will be the cursor for the ith bucket\n",
    "        self.cursor = np.array([0] * num_buckets)\n",
    "        self.bucket_order = np.random.permutation(num_buckets)\n",
    "        self.bucket_cursor = 0\n",
    "        self.shuffle()\n",
    "        print(\"Iterator created.\")\n",
    "\n",
    "        \n",
    "    def shuffle(self, idx=None):\n",
    "        \"\"\" Shuffle idx bucket or each bucket separately \"\"\"\n",
    "        for i in [idx] if idx is not None else range(self.num_buckets):\n",
    "            self.buckets[i] = self.buckets[i].sample(frac=1).reset_index(drop=True)\n",
    "            self.cursor[i] = 0\n",
    "\n",
    "\n",
    "    def next_batch(self, batch_size):\n",
    "        \"\"\"\n",
    "        Creates next training batch of size: batch_size\n",
    "        Retruns: (in_images, letters, words,\n",
    "                  in_length, letter_length, word_length)\n",
    "        \"\"\"\n",
    "        i_bucket = self.bucket_order[self.bucket_cursor]\n",
    "        # Increment cursor and shuffle in case of new round\n",
    "        self.bucket_cursor = (self.bucket_cursor + 1) % self.num_buckets\n",
    "        if self.bucket_cursor == 0:\n",
    "            self.bucket_order = np.random.permutation(self.num_buckets)\n",
    "            \n",
    "        if self.cursor[i_bucket] + batch_size > self.buckets_size[i_bucket]:\n",
    "            self.shuffle(i_bucket)\n",
    "\n",
    "        # Handle too big batch sizes\n",
    "        if (batch_size > self.buckets_size[i_bucket]):\n",
    "            batch_size = self.buckets_size[i_bucket]\n",
    "\n",
    "        res = self.buckets[i_bucket].iloc[self.cursor[i_bucket]:\n",
    "                                          self.cursor[i_bucket]+batch_size]\n",
    "        self.cursor[i_bucket] += batch_size\n",
    "        \n",
    "        # Check correct length of later prediction of sequences\n",
    "        assert np.all(res['in_length'] + add_output_length >= res['letters_length'])\n",
    "\n",
    "        input_max = max(res['in_length'])\n",
    "        letters_max = max(res['letters_length'])\n",
    "        words_max = max(res['words_length'])        \n",
    "        \n",
    "        input_seq = np.ones((batch_size, input_max, N_INPUT), dtype=np.float32) * LETTER_PAD\n",
    "        for i, img in enumerate(res['in_images']):\n",
    "            input_seq[i][:res['in_length'].values[i]] = img\n",
    "        input_seq = input_seq.swapaxes(0, 1)    # Time major\n",
    "        \n",
    "        letters = np.ones((batch_size, letters_max, letter_size), dtype=np.float32) * LETTER_PAD\n",
    "        for i, img in enumerate(res['letters']):\n",
    "            letters[i][:res['letters_length'].values[i]] = img\n",
    "        \n",
    "        # Need to pad according to the maximum length output sequence\n",
    "        words = np.zeros([batch_size, words_max], dtype=np.int32)\n",
    "        for i, word in enumerate(res['words']):\n",
    "            words[i][:res['words_length'].values[i]] = word\n",
    "        \n",
    "        return (input_seq, letters, words,\n",
    "                res['in_length'].values, res['letters_length'].values, res['words_length'].values)\n",
    "\n",
    "\n",
    "    def next_feed(self, size, words=True, train=None):\n",
    "        \"\"\" Create feed directly for model training \"\"\"\n",
    "        if train is None:\n",
    "            train = self.train\n",
    "        (encoder_inputs_,\n",
    "         letter_targets_,\n",
    "         word_targets_,\n",
    "         encoder_inputs_length_,\n",
    "         letter_targets_length_,\n",
    "         word_targets_length_) = self.next_batch(size)\n",
    "        return {\n",
    "            encoder_inputs: encoder_inputs_,\n",
    "            encoder_inputs_length: encoder_inputs_length_,\n",
    "            letter_targets: letter_targets_,\n",
    "            letter_targets_length: letter_targets_length_,\n",
    "            word_targets: word_targets_,\n",
    "            word_targets_length: word_targets_length_,\n",
    "            keep_prob: (1.0 - dropout) if self.train else 1.0,\n",
    "            is_training: train,\n",
    "            is_words: words\n",
    "        }"
   ]
  },
  {
   "cell_type": "code",
   "execution_count": 9,
   "metadata": {},
   "outputs": [
    {
     "name": "stdout",
     "output_type": "stream",
     "text": [
      "Iterator created.\n",
      "Iterator created.\n"
     ]
    }
   ],
   "source": [
    "# Create iterator for feeding RNN\n",
    "# Create only once, it modifies: labels_idx\n",
    "train_iterator = BucketDataIterator(trainImagesF,\n",
    "                                    trainLabelsF_idx,\n",
    "                                    trainGaplinesF,\n",
    "                                    num_buckets,\n",
    "                                    slider_size,\n",
    "                                    slider_step,\n",
    "                                    train=True)\n",
    "test_iterator = BucketDataIterator(testImages,\n",
    "                                   testLabels_idx,\n",
    "                                   testGaplines,\n",
    "                                   num_buckets,\n",
    "                                   slider_size,\n",
    "                                   slider_step,\n",
    "                                   train=False)"
   ]
  },
  {
   "cell_type": "markdown",
   "metadata": {},
   "source": [
    "## Placeholders"
   ]
  },
  {
   "cell_type": "code",
   "execution_count": 10,
   "metadata": {},
   "outputs": [],
   "source": [
    "# Only encoder inputs are time major\n",
    "# Encoder inputs shape (max_seq_length, batch_size, vec_size)\n",
    "encoder_inputs = tf.placeholder(shape=(None, None, N_INPUT),\n",
    "                                dtype=tf.float32,\n",
    "                                name='encoder_inputs')\n",
    "encoder_inputs_length = tf.placeholder(shape=(None,),\n",
    "                                       dtype=tf.int32,\n",
    "                                       name='encoder_inputs_length')\n",
    "\n",
    "# Required for letter sep. training\n",
    "# Contains EOS symbol\n",
    "letter_targets = tf.placeholder(shape=(None, None, letter_size),\n",
    "                                dtype=tf.float32,\n",
    "                                name='letter_targets')\n",
    "letter_targets_length = tf.placeholder(shape=(None,),\n",
    "                                       dtype=tf.int32,\n",
    "                                       name='letter_targets_length')\n",
    "\n",
    "# Required for word training\n",
    "word_targets = tf.placeholder(shape=(None, None),\n",
    "                              dtype=tf.int32,\n",
    "                              name='word_targets')\n",
    "word_targets_length = tf.placeholder(shape=(None,),\n",
    "                                     dtype=tf.int32,\n",
    "                                     name='word_targets_length')\n",
    "# Dropout value\n",
    "keep_prob = tf.placeholder(tf.float32, name='keep_prob')\n",
    "# Testing control\n",
    "is_training = tf.placeholder(tf.bool, shape=None, name=\"is_training\")\n",
    "is_words = tf.placeholder(tf.bool, shape=None, name=\"is_words\")"
   ]
  },
  {
   "cell_type": "markdown",
   "metadata": {},
   "source": [
    "### Decoder Train Feeds"
   ]
  },
  {
   "cell_type": "code",
   "execution_count": 11,
   "metadata": {},
   "outputs": [],
   "source": [
    "sequence_size, batch_size, _ = tf.unstack(tf.shape(encoder_inputs)) # letter_targets\n",
    "\n",
    "EOS_SLICE = tf.cast(tf.fill([batch_size, 1, letter_size], EOS), tf.float32)\n",
    "PAD_SLICE = tf.cast(tf.fill([batch_size, 1, letter_size], LETTER_PAD), tf.float32) # PAD\n",
    "\n",
    "# Train inputs with EOS symbol at start of seq\n",
    "letter_train_inputs = tf.concat([PAD_SLICE, letter_targets], axis=1) #EOS_SLICE\n",
    "letter_train_length = letter_targets_length\n",
    "\n",
    "# Length of infer (test) letter output\n",
    "# TODO: will have to make shorte...\n",
    "output_length = tf.minimum(\n",
    "    tf.reduce_max(encoder_inputs_length) * slider_size[1] // 15 + add_output_length,\n",
    "    23)"
   ]
  },
  {
   "cell_type": "markdown",
   "metadata": {},
   "source": [
    "## Encoder"
   ]
  },
  {
   "cell_type": "code",
   "execution_count": 12,
   "metadata": {},
   "outputs": [],
   "source": [
    "enc_cell_fw = create_cell(encoder_units,\n",
    "                          encoder_layers,\n",
    "                          encoder_residual_layers,\n",
    "                          is_dropout=True,\n",
    "                          keep_prob=keep_prob)\n",
    "enc_cell_bw = create_cell(encoder_units,\n",
    "                          encoder_layers,\n",
    "                          encoder_residual_layers,\n",
    "                          is_dropout=True,\n",
    "                          keep_prob=keep_prob)"
   ]
  },
  {
   "cell_type": "code",
   "execution_count": 13,
   "metadata": {},
   "outputs": [],
   "source": [
    "inputs = encoder_inputs\n",
    "\n",
    "# Bidirectional RNN, gibe fw and bw outputs separately\n",
    "enc_outputs, enc_state = tf.nn.bidirectional_dynamic_rnn(\n",
    "    cell_fw = enc_cell_fw,\n",
    "    cell_bw = enc_cell_bw,\n",
    "    inputs = inputs,\n",
    "    sequence_length = encoder_inputs_length,\n",
    "    dtype = tf.float32,\n",
    "    time_major = True)\n",
    "\n",
    "encoder_outputs = tf.concat(enc_outputs, -1)\n",
    "\n",
    "if encoder_layers == 1:\n",
    "    encoder_state = enc_state\n",
    "else:\n",
    "    encoder_state = []\n",
    "    for layer_id in range(encoder_layers):\n",
    "        encoder_state.append(enc_state[0][layer_id])  # forward\n",
    "        encoder_state.append(enc_state[1][layer_id])  # backward\n",
    "    encoder_state = tuple(encoder_state)"
   ]
  },
  {
   "cell_type": "markdown",
   "metadata": {},
   "source": [
    "## Decoder"
   ]
  },
  {
   "cell_type": "code",
   "execution_count": 14,
   "metadata": {},
   "outputs": [],
   "source": [
    "# attention_states: size [batch_size, max_time, num_units]\n",
    "attention_states = tf.transpose(encoder_outputs, [1, 0, 2])\n",
    "\n",
    "# Create an attention mechanism\n",
    "attention_mechanism = seq2seq.BahdanauAttention(\n",
    "    attention_size, attention_states,              # decoder_units instead of attention_size\n",
    "    memory_sequence_length=encoder_inputs_length)\n",
    "\n",
    "decoder_cell = create_cell(decoder_units,\n",
    "                           decoder_layers,\n",
    "                           decoder_residual_layers,\n",
    "                           is_dropout=True,\n",
    "                           keep_prob=keep_prob)\n",
    "\n",
    "decoder_cell = seq2seq.AttentionWrapper(\n",
    "    decoder_cell, attention_mechanism,\n",
    "    attention_layer_size=attention_size)\n",
    "\n",
    "decoder_initial_state = decoder_cell.zero_state(batch_size, tf.float32).clone(\n",
    "    cell_state=encoder_state)"
   ]
  },
  {
   "cell_type": "markdown",
   "metadata": {},
   "source": [
    "#### TRAIN DECODER"
   ]
  },
  {
   "cell_type": "code",
   "execution_count": 15,
   "metadata": {},
   "outputs": [],
   "source": [
    "# Helper\n",
    "helper = seq2seq.TrainingHelper(\n",
    "    letter_train_inputs, letter_targets_length)\n",
    "\n",
    "# Decoder\n",
    "projection_layer = layers_core.Dense(\n",
    "    letter_size, activation=tf.tanh, use_bias=True)\n",
    "\n",
    "decoder = seq2seq.BasicDecoder(\n",
    "    decoder_cell, helper, decoder_initial_state,\n",
    "    output_layer=projection_layer)\n",
    "\n",
    "# Dynamic decoding\n",
    "outputs, final_context_state, _ = seq2seq.dynamic_decode(\n",
    "    decoder)\n",
    "\n",
    "letter_logits_train = outputs.rnn_output\n",
    "letter_prediction_train = outputs.sample_id"
   ]
  },
  {
   "cell_type": "markdown",
   "metadata": {},
   "source": [
    "#### INFERENCE DECODER"
   ]
  },
  {
   "cell_type": "code",
   "execution_count": 16,
   "metadata": {},
   "outputs": [],
   "source": [
    "### CNN ###\n",
    "SCALE = 0.01 # 0.1\n",
    "# Functions for initializing convulation and pool layers\n",
    "def weights(name, shape):\n",
    "    return tf.get_variable(name, shape=shape,\n",
    "                           initializer=tf.contrib.layers.xavier_initializer(),\n",
    "                           regularizer=tf.contrib.layers.l2_regularizer(scale=SCALE))\n",
    "\n",
    "def bias(const, shape, name=None):\n",
    "    return tf.Variable(tf.constant(const, shape=shape), name=name)\n",
    "\n",
    "def conv2d(x, W, name=None):\n",
    "    return tf.nn.conv2d(x, W, strides=[1, 1, 1, 1], padding='SAME', name=name)\n",
    "\n",
    "def conv2d2(x, W, name=None):\n",
    "    return tf.nn.conv2d(x, W, strides=[1, 2, 2, 1], padding='SAME', name=name)\n",
    "\n",
    "def max_pool_2x2(x, name=None):\n",
    "    return tf.nn.max_pool(x, ksize=[1, 2, 2, 1], strides=[1, 2, 2, 1], padding='SAME', name=name)\n",
    "\n",
    "def inception2d(x, in_channels, filter_count, var_dict):\n",
    "    # 1x1\n",
    "    one_by_one = conv2d(x, var_dict['one_filter']) + var_dict['one_bias']\n",
    "    # 3x3\n",
    "    three_by_three = conv2d(x, var_dict['three_filter']) + var_dict['three_bias']\n",
    "    # 5x5\n",
    "    five_by_five = conv2d(x, var_dict['five_filter']) + var_dict['five_bias']\n",
    "    # avg pooling\n",
    "    pooling = tf.nn.max_pool(x, ksize=[1, 3, 3, 1], strides=[1, 1, 1, 1], padding='SAME')\n",
    "    x = tf.concat([one_by_one, three_by_three, five_by_five, pooling], axis=3)  # Concat in the 4th dim to stack\n",
    "    return tf.nn.relu(x)\n",
    "\n",
    "\n",
    "in_channels1 = 4\n",
    "filter_count1 = 12\n",
    "\n",
    "in_channels2 = 40\n",
    "filter_count2 = 20\n",
    "\n",
    "W_conv1 = weights('W_conv1', shape=[16, 16, 1, 4])\n",
    "b_conv1 = bias(0.1, shape=[4], name='b_conv1')\n",
    "W_fc1 = weights('W_fc2', shape=[8*8*100, char_size])\n",
    "b_fc1 = bias(0.1, shape=[char_size], name='b_fc2')\n",
    "\n",
    "var_dict1 = {\n",
    "    'one_filter': weights('one_filter1',shape=[1, 1, in_channels1, filter_count1]),\n",
    "    'one_bias': bias(0.2, shape=[filter_count1]),\n",
    "    'three_filter': weights('three_filter1', shape=[3, 3, in_channels1, filter_count1]),\n",
    "    'three_bias': bias(0.2, shape=[filter_count1]),\n",
    "    'five_filter': weights('five_filter1', shape=[5, 5, in_channels1, filter_count1]),\n",
    "    'five_bias': bias(0.2, shape=[filter_count1])\n",
    "}\n",
    "\n",
    "var_dict2 = {\n",
    "    'one_filter': weights('one_filter2',shape=[1, 1, in_channels2, filter_count2]),\n",
    "    'one_bias': bias(0.2, shape=[filter_count2]),\n",
    "    'three_filter': weights('three_filter2', shape=[3, 3, in_channels2, filter_count2]),\n",
    "    'three_bias': bias(0.2, shape=[filter_count2]),\n",
    "    'five_filter': weights('five_filter2', shape=[5, 5, in_channels2, filter_count2]),\n",
    "    'five_bias': bias(0.2, shape=[filter_count2])\n",
    "}\n",
    "\n",
    "\n",
    "def CNN(x, clas=True):\n",
    "    if clas:\n",
    "        b_size, seq_size, _ = tf.unstack(tf.shape(x))\n",
    "    else:\n",
    "        b_size, _ = tf.unstack(tf.shape(x))\n",
    "    imgs = tf.reshape(x, [-1, 64, 64, 1])\n",
    "    # 1. Layer - Convulation\n",
    "    h_conv1 = tf.nn.relu(conv2d2(imgs, W_conv1) + b_conv1, name='h_conv1')    \n",
    "    # 2. Layer - Max Pool\n",
    "    h_pool1 = max_pool_2x2(h_conv1, name='h_pool1')\n",
    "    # 3. Inception\n",
    "    incept1 = inception2d(h_pool1, in_channels1, filter_count1, var_dict1)\n",
    "    # 4. Inception\n",
    "    incept2 = inception2d(incept1, in_channels2, filter_count2, var_dict2)\n",
    "    # 5. Layer - Max Pool\n",
    "    h_pool3 = max_pool_2x2(incept2)\n",
    "    # Reshape filters into flat arraty\n",
    "    h_flat = tf.reshape(h_pool3, [-1, 8*8*100])\n",
    "    # 6. Dropout\n",
    "    h_flat_drop = tf.nn.dropout(h_flat, keep_prob)\n",
    "    # 7. Output layer\n",
    "    out = tf.matmul(h_flat_drop, W_fc1) + b_fc1\n",
    "    if clas:\n",
    "        return tf.reshape(out, [b_size, seq_size, -1])\n",
    "    else:\n",
    "        return tf.reshape(out, [b_size, -1])"
   ]
  },
  {
   "cell_type": "code",
   "execution_count": 17,
   "metadata": {},
   "outputs": [],
   "source": [
    "# Helper without embedding, can add param: 'next_inputs_fn'\n",
    "helper_infer = seq2seq.InferenceHelper(\n",
    "    sample_fn=(lambda x: x),\n",
    "    sample_shape=[letter_size],\n",
    "    sample_dtype=tf.float32,\n",
    "    start_inputs=tf.cast(tf.fill([batch_size, letter_size], LETTER_PAD), tf.float32), # PAD <- EOS, need flaot32\n",
    "    end_fn=(lambda sample_ids:\n",
    "#             tf.greater(sample_ids[:, 0], 0)))\n",
    "            tf.equal(tf.argmax(CNN(sample_ids, False), axis=-1, output_type=tf.int32), 1)))\n",
    "            \n",
    "\n",
    "decoder_infer = seq2seq.BasicDecoder(\n",
    "    decoder_cell, helper_infer, decoder_initial_state,\n",
    "    output_layer=projection_layer)\n",
    "\n",
    "# Dynamic decoding\n",
    "outputs_infer, final_context_state, final_seq_lengths = seq2seq.dynamic_decode(\n",
    "    decoder_infer,\n",
    "    impute_finished=True,\n",
    "    maximum_iterations=output_length)\n",
    "\n",
    "letter_prediction_infer = tf.identity(outputs_infer.rnn_output, # sample_id\n",
    "                                      name='letter_prediction_infer')"
   ]
  },
  {
   "cell_type": "markdown",
   "metadata": {},
   "source": [
    "## RNN"
   ]
  },
  {
   "cell_type": "code",
   "execution_count": 18,
   "metadata": {},
   "outputs": [],
   "source": [
    "# cell_RNN = create_cell(wordRNN_units,\n",
    "#                        wordRNN_layers,\n",
    "#                        wordRNN_residual_layers,\n",
    "#                        is_dropout=True,\n",
    "#                        keep_prob=keep_prob)\n",
    "\n",
    "word_inputs = tf.cond(is_training,\n",
    "                      lambda: letter_targets,\n",
    "                      lambda: letter_prediction_infer)\n",
    "word_inputs_length_ = tf.cond(is_training,\n",
    "                              lambda: letter_targets_length,\n",
    "                              lambda: final_seq_lengths)\n",
    "\n",
    "word_inputs_length = word_inputs_length_    # tf.subtract(word_inputs_length_, 1)\n",
    "\n",
    "\n",
    "# Word RNN\n",
    "# word_outputs, _ = tf.nn.dynamic_rnn(\n",
    "#     cell = cell_RNN,\n",
    "#     inputs = word_inputs,\n",
    "#     sequence_length = word_inputs_length,\n",
    "#     dtype = tf.float32)\n",
    "\n",
    "\n",
    "# Input images CNN\n",
    "word_outputs = CNN(word_inputs)\n",
    "\n",
    "# word_logits = tf.layers.dense(\n",
    "#     inputs=word_outputs,\n",
    "#     units=char_size,\n",
    "#     name='pred')\n",
    "word_logits = word_outputs\n",
    "word_prediction = tf.argmax(\n",
    "    word_logits, axis=-1, output_type=tf.int32,    # word_logits = tf.layers.dense(\n",
    "    name='word_prediction')"
   ]
  },
  {
   "cell_type": "markdown",
   "metadata": {},
   "source": [
    "## Optimizer"
   ]
  },
  {
   "cell_type": "markdown",
   "metadata": {},
   "source": [
    "#### Weights + Paddings"
   ]
  },
  {
   "cell_type": "code",
   "execution_count": 19,
   "metadata": {},
   "outputs": [],
   "source": [
    "# Pad test accuracy\n",
    "letter_test_targets = tf.pad(\n",
    "    letter_targets,\n",
    "    [[0, 0],\n",
    "     [0, output_length - tf.reduce_max(letter_targets_length)],\n",
    "     [0, 0]],\n",
    "    constant_values=LETTER_PAD,\n",
    "    mode='CONSTANT')\n",
    "\n",
    "# Pad prediction to match lengths\n",
    "letter_pred_infer_pad = tf.pad(\n",
    "    letter_prediction_infer,\n",
    "    [[0, 0],\n",
    "     [0, output_length - tf.reduce_max(word_inputs_length_)],\n",
    "     [0, 0]],\n",
    "    constant_values=LETTER_PAD,\n",
    "    mode='CONSTANT')\n",
    "\n",
    "\n",
    "word_pad_lenght = tf.maximum(\n",
    "    tf.reduce_max(word_inputs_length_),\n",
    "    tf.reduce_max(word_targets_length))\n",
    "\n",
    "word_logits_pad = tf.pad(\n",
    "    word_logits,\n",
    "    [[0, 0],\n",
    "     [0, word_pad_lenght - tf.reduce_max(word_inputs_length_)],\n",
    "     [0, 0]],\n",
    "    constant_values=PAD,\n",
    "    mode='CONSTANT')\n",
    "word_pred_pad = tf.pad(\n",
    "    word_prediction,\n",
    "    [[0, 0],\n",
    "     [0, word_pad_lenght - tf.reduce_max(word_inputs_length_)]],\n",
    "    constant_values=PAD,\n",
    "    mode='CONSTANT')\n",
    "word_targets_pad = tf.pad(\n",
    "    word_targets,\n",
    "    [[0, 0],\n",
    "     [0, word_pad_lenght - tf.reduce_max(word_targets_length)]],\n",
    "    constant_values=PAD,\n",
    "    mode='CONSTANT')\n",
    "\n",
    "\n",
    "# Weights\n",
    "letter_loss_weights = tf.sequence_mask(\n",
    "    letter_train_length,\n",
    "    tf.reduce_max(letter_train_length),\n",
    "    dtype=tf.float32)\n",
    "\n",
    "letter_test_weights = tf.sequence_mask(\n",
    "    letter_train_length,\n",
    "    output_length,\n",
    "    dtype=tf.float32)\n",
    "\n",
    "word_loss_weights = tf.sequence_mask(\n",
    "    word_targets_length,    # word_inputs_length, try max(targets, inputs)\n",
    "    word_pad_lenght,\n",
    "    dtype=tf.float32)"
   ]
  },
  {
   "cell_type": "code",
   "execution_count": 20,
   "metadata": {},
   "outputs": [],
   "source": [
    "## Loss\n",
    "letter_loss = tf.losses.mean_squared_error(\n",
    "    predictions=letter_logits_train,\n",
    "    labels=letter_targets,\n",
    "    weights=tf.stack([letter_loss_weights for i in range(letter_size)], axis=-1))\n",
    "\n",
    "word_seq_loss = seq2seq.sequence_loss(\n",
    "    logits=word_logits_pad,\n",
    "    targets=word_targets_pad,\n",
    "    weights=word_loss_weights,\n",
    "    name='word_loss')\n",
    "regularization = tf.get_collection(tf.GraphKeys.REGULARIZATION_LOSSES)\n",
    "word_loss = word_seq_loss + sum(regularization)\n",
    "\n",
    "\n",
    "loss = tf.cond(is_words,\n",
    "               lambda: word_loss,\n",
    "               lambda: letter_loss)\n",
    "\n",
    "learning_rate_ = tf.cond(tf.logical_and(is_words, tf.logical_not(is_training)),\n",
    "                         lambda: learning_rate * 0.1,\n",
    "                         lambda: learning_rate)\n",
    "\n",
    "## Calculate and clip gradients\n",
    "params = tf.trainable_variables()\n",
    "gradients = tf.gradients(loss, params)\n",
    "clipped_gradients, _ = tf.clip_by_global_norm(\n",
    "    gradients, max_gradient_norm)\n",
    "\n",
    "### Optimization\n",
    "optimizer = tf.train.AdamOptimizer(learning_rate_)\n",
    "train_step = optimizer.apply_gradients(\n",
    "    zip(clipped_gradients, params),\n",
    "    name='train_step')\n",
    "\n",
    "### Evaluate model\n",
    "correct_prediction = tf.equal(\n",
    "    word_pred_pad,\n",
    "    word_targets_pad)\n",
    "## Advanced accuracy only the elements of seq including EOS symbol\n",
    "# accuracy = tf.reduce_mean(tf.cast(correct_prediction, tf.float32))\n",
    "accuracy = (tf.reduce_sum(tf.cast(correct_prediction, tf.float32) * word_loss_weights) \\\n",
    "            / tf.reduce_sum(word_loss_weights))"
   ]
  },
  {
   "cell_type": "code",
   "execution_count": 21,
   "metadata": {},
   "outputs": [
    {
     "name": "stdout",
     "output_type": "stream",
     "text": [
      "(32, 15, 54)\n"
     ]
    }
   ],
   "source": [
    "sess.run(tf.global_variables_initializer())\n",
    "fd  = test_iterator.next_feed(32)\n",
    "pre = word_logits.eval(fd)\n",
    "print(pre.shape)"
   ]
  },
  {
   "cell_type": "markdown",
   "metadata": {},
   "source": [
    "## Training"
   ]
  },
  {
   "cell_type": "code",
   "execution_count": 22,
   "metadata": {
    "scrolled": false
   },
   "outputs": [
    {
     "data": {
      "application/javascript": [
       "/* Put everything inside the global mpl namespace */\n",
       "window.mpl = {};\n",
       "\n",
       "\n",
       "mpl.get_websocket_type = function() {\n",
       "    if (typeof(WebSocket) !== 'undefined') {\n",
       "        return WebSocket;\n",
       "    } else if (typeof(MozWebSocket) !== 'undefined') {\n",
       "        return MozWebSocket;\n",
       "    } else {\n",
       "        alert('Your browser does not have WebSocket support.' +\n",
       "              'Please try Chrome, Safari or Firefox ≥ 6. ' +\n",
       "              'Firefox 4 and 5 are also supported but you ' +\n",
       "              'have to enable WebSockets in about:config.');\n",
       "    };\n",
       "}\n",
       "\n",
       "mpl.figure = function(figure_id, websocket, ondownload, parent_element) {\n",
       "    this.id = figure_id;\n",
       "\n",
       "    this.ws = websocket;\n",
       "\n",
       "    this.supports_binary = (this.ws.binaryType != undefined);\n",
       "\n",
       "    if (!this.supports_binary) {\n",
       "        var warnings = document.getElementById(\"mpl-warnings\");\n",
       "        if (warnings) {\n",
       "            warnings.style.display = 'block';\n",
       "            warnings.textContent = (\n",
       "                \"This browser does not support binary websocket messages. \" +\n",
       "                    \"Performance may be slow.\");\n",
       "        }\n",
       "    }\n",
       "\n",
       "    this.imageObj = new Image();\n",
       "\n",
       "    this.context = undefined;\n",
       "    this.message = undefined;\n",
       "    this.canvas = undefined;\n",
       "    this.rubberband_canvas = undefined;\n",
       "    this.rubberband_context = undefined;\n",
       "    this.format_dropdown = undefined;\n",
       "\n",
       "    this.image_mode = 'full';\n",
       "\n",
       "    this.root = $('<div/>');\n",
       "    this._root_extra_style(this.root)\n",
       "    this.root.attr('style', 'display: inline-block');\n",
       "\n",
       "    $(parent_element).append(this.root);\n",
       "\n",
       "    this._init_header(this);\n",
       "    this._init_canvas(this);\n",
       "    this._init_toolbar(this);\n",
       "\n",
       "    var fig = this;\n",
       "\n",
       "    this.waiting = false;\n",
       "\n",
       "    this.ws.onopen =  function () {\n",
       "            fig.send_message(\"supports_binary\", {value: fig.supports_binary});\n",
       "            fig.send_message(\"send_image_mode\", {});\n",
       "            if (mpl.ratio != 1) {\n",
       "                fig.send_message(\"set_dpi_ratio\", {'dpi_ratio': mpl.ratio});\n",
       "            }\n",
       "            fig.send_message(\"refresh\", {});\n",
       "        }\n",
       "\n",
       "    this.imageObj.onload = function() {\n",
       "            if (fig.image_mode == 'full') {\n",
       "                // Full images could contain transparency (where diff images\n",
       "                // almost always do), so we need to clear the canvas so that\n",
       "                // there is no ghosting.\n",
       "                fig.context.clearRect(0, 0, fig.canvas.width, fig.canvas.height);\n",
       "            }\n",
       "            fig.context.drawImage(fig.imageObj, 0, 0);\n",
       "        };\n",
       "\n",
       "    this.imageObj.onunload = function() {\n",
       "        fig.ws.close();\n",
       "    }\n",
       "\n",
       "    this.ws.onmessage = this._make_on_message_function(this);\n",
       "\n",
       "    this.ondownload = ondownload;\n",
       "}\n",
       "\n",
       "mpl.figure.prototype._init_header = function() {\n",
       "    var titlebar = $(\n",
       "        '<div class=\"ui-dialog-titlebar ui-widget-header ui-corner-all ' +\n",
       "        'ui-helper-clearfix\"/>');\n",
       "    var titletext = $(\n",
       "        '<div class=\"ui-dialog-title\" style=\"width: 100%; ' +\n",
       "        'text-align: center; padding: 3px;\"/>');\n",
       "    titlebar.append(titletext)\n",
       "    this.root.append(titlebar);\n",
       "    this.header = titletext[0];\n",
       "}\n",
       "\n",
       "\n",
       "\n",
       "mpl.figure.prototype._canvas_extra_style = function(canvas_div) {\n",
       "\n",
       "}\n",
       "\n",
       "\n",
       "mpl.figure.prototype._root_extra_style = function(canvas_div) {\n",
       "\n",
       "}\n",
       "\n",
       "mpl.figure.prototype._init_canvas = function() {\n",
       "    var fig = this;\n",
       "\n",
       "    var canvas_div = $('<div/>');\n",
       "\n",
       "    canvas_div.attr('style', 'position: relative; clear: both; outline: 0');\n",
       "\n",
       "    function canvas_keyboard_event(event) {\n",
       "        return fig.key_event(event, event['data']);\n",
       "    }\n",
       "\n",
       "    canvas_div.keydown('key_press', canvas_keyboard_event);\n",
       "    canvas_div.keyup('key_release', canvas_keyboard_event);\n",
       "    this.canvas_div = canvas_div\n",
       "    this._canvas_extra_style(canvas_div)\n",
       "    this.root.append(canvas_div);\n",
       "\n",
       "    var canvas = $('<canvas/>');\n",
       "    canvas.addClass('mpl-canvas');\n",
       "    canvas.attr('style', \"left: 0; top: 0; z-index: 0; outline: 0\")\n",
       "\n",
       "    this.canvas = canvas[0];\n",
       "    this.context = canvas[0].getContext(\"2d\");\n",
       "\n",
       "    var backingStore = this.context.backingStorePixelRatio ||\n",
       "\tthis.context.webkitBackingStorePixelRatio ||\n",
       "\tthis.context.mozBackingStorePixelRatio ||\n",
       "\tthis.context.msBackingStorePixelRatio ||\n",
       "\tthis.context.oBackingStorePixelRatio ||\n",
       "\tthis.context.backingStorePixelRatio || 1;\n",
       "\n",
       "    mpl.ratio = (window.devicePixelRatio || 1) / backingStore;\n",
       "\n",
       "    var rubberband = $('<canvas/>');\n",
       "    rubberband.attr('style', \"position: absolute; left: 0; top: 0; z-index: 1;\")\n",
       "\n",
       "    var pass_mouse_events = true;\n",
       "\n",
       "    canvas_div.resizable({\n",
       "        start: function(event, ui) {\n",
       "            pass_mouse_events = false;\n",
       "        },\n",
       "        resize: function(event, ui) {\n",
       "            fig.request_resize(ui.size.width, ui.size.height);\n",
       "        },\n",
       "        stop: function(event, ui) {\n",
       "            pass_mouse_events = true;\n",
       "            fig.request_resize(ui.size.width, ui.size.height);\n",
       "        },\n",
       "    });\n",
       "\n",
       "    function mouse_event_fn(event) {\n",
       "        if (pass_mouse_events)\n",
       "            return fig.mouse_event(event, event['data']);\n",
       "    }\n",
       "\n",
       "    rubberband.mousedown('button_press', mouse_event_fn);\n",
       "    rubberband.mouseup('button_release', mouse_event_fn);\n",
       "    // Throttle sequential mouse events to 1 every 20ms.\n",
       "    rubberband.mousemove('motion_notify', mouse_event_fn);\n",
       "\n",
       "    rubberband.mouseenter('figure_enter', mouse_event_fn);\n",
       "    rubberband.mouseleave('figure_leave', mouse_event_fn);\n",
       "\n",
       "    canvas_div.on(\"wheel\", function (event) {\n",
       "        event = event.originalEvent;\n",
       "        event['data'] = 'scroll'\n",
       "        if (event.deltaY < 0) {\n",
       "            event.step = 1;\n",
       "        } else {\n",
       "            event.step = -1;\n",
       "        }\n",
       "        mouse_event_fn(event);\n",
       "    });\n",
       "\n",
       "    canvas_div.append(canvas);\n",
       "    canvas_div.append(rubberband);\n",
       "\n",
       "    this.rubberband = rubberband;\n",
       "    this.rubberband_canvas = rubberband[0];\n",
       "    this.rubberband_context = rubberband[0].getContext(\"2d\");\n",
       "    this.rubberband_context.strokeStyle = \"#000000\";\n",
       "\n",
       "    this._resize_canvas = function(width, height) {\n",
       "        // Keep the size of the canvas, canvas container, and rubber band\n",
       "        // canvas in synch.\n",
       "        canvas_div.css('width', width)\n",
       "        canvas_div.css('height', height)\n",
       "\n",
       "        canvas.attr('width', width * mpl.ratio);\n",
       "        canvas.attr('height', height * mpl.ratio);\n",
       "        canvas.attr('style', 'width: ' + width + 'px; height: ' + height + 'px;');\n",
       "\n",
       "        rubberband.attr('width', width);\n",
       "        rubberband.attr('height', height);\n",
       "    }\n",
       "\n",
       "    // Set the figure to an initial 600x600px, this will subsequently be updated\n",
       "    // upon first draw.\n",
       "    this._resize_canvas(600, 600);\n",
       "\n",
       "    // Disable right mouse context menu.\n",
       "    $(this.rubberband_canvas).bind(\"contextmenu\",function(e){\n",
       "        return false;\n",
       "    });\n",
       "\n",
       "    function set_focus () {\n",
       "        canvas.focus();\n",
       "        canvas_div.focus();\n",
       "    }\n",
       "\n",
       "    window.setTimeout(set_focus, 100);\n",
       "}\n",
       "\n",
       "mpl.figure.prototype._init_toolbar = function() {\n",
       "    var fig = this;\n",
       "\n",
       "    var nav_element = $('<div/>')\n",
       "    nav_element.attr('style', 'width: 100%');\n",
       "    this.root.append(nav_element);\n",
       "\n",
       "    // Define a callback function for later on.\n",
       "    function toolbar_event(event) {\n",
       "        return fig.toolbar_button_onclick(event['data']);\n",
       "    }\n",
       "    function toolbar_mouse_event(event) {\n",
       "        return fig.toolbar_button_onmouseover(event['data']);\n",
       "    }\n",
       "\n",
       "    for(var toolbar_ind in mpl.toolbar_items) {\n",
       "        var name = mpl.toolbar_items[toolbar_ind][0];\n",
       "        var tooltip = mpl.toolbar_items[toolbar_ind][1];\n",
       "        var image = mpl.toolbar_items[toolbar_ind][2];\n",
       "        var method_name = mpl.toolbar_items[toolbar_ind][3];\n",
       "\n",
       "        if (!name) {\n",
       "            // put a spacer in here.\n",
       "            continue;\n",
       "        }\n",
       "        var button = $('<button/>');\n",
       "        button.addClass('ui-button ui-widget ui-state-default ui-corner-all ' +\n",
       "                        'ui-button-icon-only');\n",
       "        button.attr('role', 'button');\n",
       "        button.attr('aria-disabled', 'false');\n",
       "        button.click(method_name, toolbar_event);\n",
       "        button.mouseover(tooltip, toolbar_mouse_event);\n",
       "\n",
       "        var icon_img = $('<span/>');\n",
       "        icon_img.addClass('ui-button-icon-primary ui-icon');\n",
       "        icon_img.addClass(image);\n",
       "        icon_img.addClass('ui-corner-all');\n",
       "\n",
       "        var tooltip_span = $('<span/>');\n",
       "        tooltip_span.addClass('ui-button-text');\n",
       "        tooltip_span.html(tooltip);\n",
       "\n",
       "        button.append(icon_img);\n",
       "        button.append(tooltip_span);\n",
       "\n",
       "        nav_element.append(button);\n",
       "    }\n",
       "\n",
       "    var fmt_picker_span = $('<span/>');\n",
       "\n",
       "    var fmt_picker = $('<select/>');\n",
       "    fmt_picker.addClass('mpl-toolbar-option ui-widget ui-widget-content');\n",
       "    fmt_picker_span.append(fmt_picker);\n",
       "    nav_element.append(fmt_picker_span);\n",
       "    this.format_dropdown = fmt_picker[0];\n",
       "\n",
       "    for (var ind in mpl.extensions) {\n",
       "        var fmt = mpl.extensions[ind];\n",
       "        var option = $(\n",
       "            '<option/>', {selected: fmt === mpl.default_extension}).html(fmt);\n",
       "        fmt_picker.append(option)\n",
       "    }\n",
       "\n",
       "    // Add hover states to the ui-buttons\n",
       "    $( \".ui-button\" ).hover(\n",
       "        function() { $(this).addClass(\"ui-state-hover\");},\n",
       "        function() { $(this).removeClass(\"ui-state-hover\");}\n",
       "    );\n",
       "\n",
       "    var status_bar = $('<span class=\"mpl-message\"/>');\n",
       "    nav_element.append(status_bar);\n",
       "    this.message = status_bar[0];\n",
       "}\n",
       "\n",
       "mpl.figure.prototype.request_resize = function(x_pixels, y_pixels) {\n",
       "    // Request matplotlib to resize the figure. Matplotlib will then trigger a resize in the client,\n",
       "    // which will in turn request a refresh of the image.\n",
       "    this.send_message('resize', {'width': x_pixels, 'height': y_pixels});\n",
       "}\n",
       "\n",
       "mpl.figure.prototype.send_message = function(type, properties) {\n",
       "    properties['type'] = type;\n",
       "    properties['figure_id'] = this.id;\n",
       "    this.ws.send(JSON.stringify(properties));\n",
       "}\n",
       "\n",
       "mpl.figure.prototype.send_draw_message = function() {\n",
       "    if (!this.waiting) {\n",
       "        this.waiting = true;\n",
       "        this.ws.send(JSON.stringify({type: \"draw\", figure_id: this.id}));\n",
       "    }\n",
       "}\n",
       "\n",
       "\n",
       "mpl.figure.prototype.handle_save = function(fig, msg) {\n",
       "    var format_dropdown = fig.format_dropdown;\n",
       "    var format = format_dropdown.options[format_dropdown.selectedIndex].value;\n",
       "    fig.ondownload(fig, format);\n",
       "}\n",
       "\n",
       "\n",
       "mpl.figure.prototype.handle_resize = function(fig, msg) {\n",
       "    var size = msg['size'];\n",
       "    if (size[0] != fig.canvas.width || size[1] != fig.canvas.height) {\n",
       "        fig._resize_canvas(size[0], size[1]);\n",
       "        fig.send_message(\"refresh\", {});\n",
       "    };\n",
       "}\n",
       "\n",
       "mpl.figure.prototype.handle_rubberband = function(fig, msg) {\n",
       "    var x0 = msg['x0'] / mpl.ratio;\n",
       "    var y0 = (fig.canvas.height - msg['y0']) / mpl.ratio;\n",
       "    var x1 = msg['x1'] / mpl.ratio;\n",
       "    var y1 = (fig.canvas.height - msg['y1']) / mpl.ratio;\n",
       "    x0 = Math.floor(x0) + 0.5;\n",
       "    y0 = Math.floor(y0) + 0.5;\n",
       "    x1 = Math.floor(x1) + 0.5;\n",
       "    y1 = Math.floor(y1) + 0.5;\n",
       "    var min_x = Math.min(x0, x1);\n",
       "    var min_y = Math.min(y0, y1);\n",
       "    var width = Math.abs(x1 - x0);\n",
       "    var height = Math.abs(y1 - y0);\n",
       "\n",
       "    fig.rubberband_context.clearRect(\n",
       "        0, 0, fig.canvas.width, fig.canvas.height);\n",
       "\n",
       "    fig.rubberband_context.strokeRect(min_x, min_y, width, height);\n",
       "}\n",
       "\n",
       "mpl.figure.prototype.handle_figure_label = function(fig, msg) {\n",
       "    // Updates the figure title.\n",
       "    fig.header.textContent = msg['label'];\n",
       "}\n",
       "\n",
       "mpl.figure.prototype.handle_cursor = function(fig, msg) {\n",
       "    var cursor = msg['cursor'];\n",
       "    switch(cursor)\n",
       "    {\n",
       "    case 0:\n",
       "        cursor = 'pointer';\n",
       "        break;\n",
       "    case 1:\n",
       "        cursor = 'default';\n",
       "        break;\n",
       "    case 2:\n",
       "        cursor = 'crosshair';\n",
       "        break;\n",
       "    case 3:\n",
       "        cursor = 'move';\n",
       "        break;\n",
       "    }\n",
       "    fig.rubberband_canvas.style.cursor = cursor;\n",
       "}\n",
       "\n",
       "mpl.figure.prototype.handle_message = function(fig, msg) {\n",
       "    fig.message.textContent = msg['message'];\n",
       "}\n",
       "\n",
       "mpl.figure.prototype.handle_draw = function(fig, msg) {\n",
       "    // Request the server to send over a new figure.\n",
       "    fig.send_draw_message();\n",
       "}\n",
       "\n",
       "mpl.figure.prototype.handle_image_mode = function(fig, msg) {\n",
       "    fig.image_mode = msg['mode'];\n",
       "}\n",
       "\n",
       "mpl.figure.prototype.updated_canvas_event = function() {\n",
       "    // Called whenever the canvas gets updated.\n",
       "    this.send_message(\"ack\", {});\n",
       "}\n",
       "\n",
       "// A function to construct a web socket function for onmessage handling.\n",
       "// Called in the figure constructor.\n",
       "mpl.figure.prototype._make_on_message_function = function(fig) {\n",
       "    return function socket_on_message(evt) {\n",
       "        if (evt.data instanceof Blob) {\n",
       "            /* FIXME: We get \"Resource interpreted as Image but\n",
       "             * transferred with MIME type text/plain:\" errors on\n",
       "             * Chrome.  But how to set the MIME type?  It doesn't seem\n",
       "             * to be part of the websocket stream */\n",
       "            evt.data.type = \"image/png\";\n",
       "\n",
       "            /* Free the memory for the previous frames */\n",
       "            if (fig.imageObj.src) {\n",
       "                (window.URL || window.webkitURL).revokeObjectURL(\n",
       "                    fig.imageObj.src);\n",
       "            }\n",
       "\n",
       "            fig.imageObj.src = (window.URL || window.webkitURL).createObjectURL(\n",
       "                evt.data);\n",
       "            fig.updated_canvas_event();\n",
       "            fig.waiting = false;\n",
       "            return;\n",
       "        }\n",
       "        else if (typeof evt.data === 'string' && evt.data.slice(0, 21) == \"data:image/png;base64\") {\n",
       "            fig.imageObj.src = evt.data;\n",
       "            fig.updated_canvas_event();\n",
       "            fig.waiting = false;\n",
       "            return;\n",
       "        }\n",
       "\n",
       "        var msg = JSON.parse(evt.data);\n",
       "        var msg_type = msg['type'];\n",
       "\n",
       "        // Call the  \"handle_{type}\" callback, which takes\n",
       "        // the figure and JSON message as its only arguments.\n",
       "        try {\n",
       "            var callback = fig[\"handle_\" + msg_type];\n",
       "        } catch (e) {\n",
       "            console.log(\"No handler for the '\" + msg_type + \"' message type: \", msg);\n",
       "            return;\n",
       "        }\n",
       "\n",
       "        if (callback) {\n",
       "            try {\n",
       "                // console.log(\"Handling '\" + msg_type + \"' message: \", msg);\n",
       "                callback(fig, msg);\n",
       "            } catch (e) {\n",
       "                console.log(\"Exception inside the 'handler_\" + msg_type + \"' callback:\", e, e.stack, msg);\n",
       "            }\n",
       "        }\n",
       "    };\n",
       "}\n",
       "\n",
       "// from http://stackoverflow.com/questions/1114465/getting-mouse-location-in-canvas\n",
       "mpl.findpos = function(e) {\n",
       "    //this section is from http://www.quirksmode.org/js/events_properties.html\n",
       "    var targ;\n",
       "    if (!e)\n",
       "        e = window.event;\n",
       "    if (e.target)\n",
       "        targ = e.target;\n",
       "    else if (e.srcElement)\n",
       "        targ = e.srcElement;\n",
       "    if (targ.nodeType == 3) // defeat Safari bug\n",
       "        targ = targ.parentNode;\n",
       "\n",
       "    // jQuery normalizes the pageX and pageY\n",
       "    // pageX,Y are the mouse positions relative to the document\n",
       "    // offset() returns the position of the element relative to the document\n",
       "    var x = e.pageX - $(targ).offset().left;\n",
       "    var y = e.pageY - $(targ).offset().top;\n",
       "\n",
       "    return {\"x\": x, \"y\": y};\n",
       "};\n",
       "\n",
       "/*\n",
       " * return a copy of an object with only non-object keys\n",
       " * we need this to avoid circular references\n",
       " * http://stackoverflow.com/a/24161582/3208463\n",
       " */\n",
       "function simpleKeys (original) {\n",
       "  return Object.keys(original).reduce(function (obj, key) {\n",
       "    if (typeof original[key] !== 'object')\n",
       "        obj[key] = original[key]\n",
       "    return obj;\n",
       "  }, {});\n",
       "}\n",
       "\n",
       "mpl.figure.prototype.mouse_event = function(event, name) {\n",
       "    var canvas_pos = mpl.findpos(event)\n",
       "\n",
       "    if (name === 'button_press')\n",
       "    {\n",
       "        this.canvas.focus();\n",
       "        this.canvas_div.focus();\n",
       "    }\n",
       "\n",
       "    var x = canvas_pos.x * mpl.ratio;\n",
       "    var y = canvas_pos.y * mpl.ratio;\n",
       "\n",
       "    this.send_message(name, {x: x, y: y, button: event.button,\n",
       "                             step: event.step,\n",
       "                             guiEvent: simpleKeys(event)});\n",
       "\n",
       "    /* This prevents the web browser from automatically changing to\n",
       "     * the text insertion cursor when the button is pressed.  We want\n",
       "     * to control all of the cursor setting manually through the\n",
       "     * 'cursor' event from matplotlib */\n",
       "    event.preventDefault();\n",
       "    return false;\n",
       "}\n",
       "\n",
       "mpl.figure.prototype._key_event_extra = function(event, name) {\n",
       "    // Handle any extra behaviour associated with a key event\n",
       "}\n",
       "\n",
       "mpl.figure.prototype.key_event = function(event, name) {\n",
       "\n",
       "    // Prevent repeat events\n",
       "    if (name == 'key_press')\n",
       "    {\n",
       "        if (event.which === this._key)\n",
       "            return;\n",
       "        else\n",
       "            this._key = event.which;\n",
       "    }\n",
       "    if (name == 'key_release')\n",
       "        this._key = null;\n",
       "\n",
       "    var value = '';\n",
       "    if (event.ctrlKey && event.which != 17)\n",
       "        value += \"ctrl+\";\n",
       "    if (event.altKey && event.which != 18)\n",
       "        value += \"alt+\";\n",
       "    if (event.shiftKey && event.which != 16)\n",
       "        value += \"shift+\";\n",
       "\n",
       "    value += 'k';\n",
       "    value += event.which.toString();\n",
       "\n",
       "    this._key_event_extra(event, name);\n",
       "\n",
       "    this.send_message(name, {key: value,\n",
       "                             guiEvent: simpleKeys(event)});\n",
       "    return false;\n",
       "}\n",
       "\n",
       "mpl.figure.prototype.toolbar_button_onclick = function(name) {\n",
       "    if (name == 'download') {\n",
       "        this.handle_save(this, null);\n",
       "    } else {\n",
       "        this.send_message(\"toolbar_button\", {name: name});\n",
       "    }\n",
       "};\n",
       "\n",
       "mpl.figure.prototype.toolbar_button_onmouseover = function(tooltip) {\n",
       "    this.message.textContent = tooltip;\n",
       "};\n",
       "mpl.toolbar_items = [[\"Home\", \"Reset original view\", \"fa fa-home icon-home\", \"home\"], [\"Back\", \"Back to  previous view\", \"fa fa-arrow-left icon-arrow-left\", \"back\"], [\"Forward\", \"Forward to next view\", \"fa fa-arrow-right icon-arrow-right\", \"forward\"], [\"\", \"\", \"\", \"\"], [\"Pan\", \"Pan axes with left mouse, zoom with right\", \"fa fa-arrows icon-move\", \"pan\"], [\"Zoom\", \"Zoom to rectangle\", \"fa fa-square-o icon-check-empty\", \"zoom\"], [\"\", \"\", \"\", \"\"], [\"Download\", \"Download plot\", \"fa fa-floppy-o icon-save\", \"download\"]];\n",
       "\n",
       "mpl.extensions = [\"eps\", \"jpeg\", \"pdf\", \"png\", \"ps\", \"raw\", \"svg\", \"tif\"];\n",
       "\n",
       "mpl.default_extension = \"png\";var comm_websocket_adapter = function(comm) {\n",
       "    // Create a \"websocket\"-like object which calls the given IPython comm\n",
       "    // object with the appropriate methods. Currently this is a non binary\n",
       "    // socket, so there is still some room for performance tuning.\n",
       "    var ws = {};\n",
       "\n",
       "    ws.close = function() {\n",
       "        comm.close()\n",
       "    };\n",
       "    ws.send = function(m) {\n",
       "        //console.log('sending', m);\n",
       "        comm.send(m);\n",
       "    };\n",
       "    // Register the callback with on_msg.\n",
       "    comm.on_msg(function(msg) {\n",
       "        //console.log('receiving', msg['content']['data'], msg);\n",
       "        // Pass the mpl event to the overriden (by mpl) onmessage function.\n",
       "        ws.onmessage(msg['content']['data'])\n",
       "    });\n",
       "    return ws;\n",
       "}\n",
       "\n",
       "mpl.mpl_figure_comm = function(comm, msg) {\n",
       "    // This is the function which gets called when the mpl process\n",
       "    // starts-up an IPython Comm through the \"matplotlib\" channel.\n",
       "\n",
       "    var id = msg.content.data.id;\n",
       "    // Get hold of the div created by the display call when the Comm\n",
       "    // socket was opened in Python.\n",
       "    var element = $(\"#\" + id);\n",
       "    var ws_proxy = comm_websocket_adapter(comm)\n",
       "\n",
       "    function ondownload(figure, format) {\n",
       "        window.open(figure.imageObj.src);\n",
       "    }\n",
       "\n",
       "    var fig = new mpl.figure(id, ws_proxy,\n",
       "                           ondownload,\n",
       "                           element.get(0));\n",
       "\n",
       "    // Call onopen now - mpl needs it, as it is assuming we've passed it a real\n",
       "    // web socket which is closed, not our websocket->open comm proxy.\n",
       "    ws_proxy.onopen();\n",
       "\n",
       "    fig.parent_element = element.get(0);\n",
       "    fig.cell_info = mpl.find_output_cell(\"<div id='\" + id + \"'></div>\");\n",
       "    if (!fig.cell_info) {\n",
       "        console.error(\"Failed to find cell for figure\", id, fig);\n",
       "        return;\n",
       "    }\n",
       "\n",
       "    var output_index = fig.cell_info[2]\n",
       "    var cell = fig.cell_info[0];\n",
       "\n",
       "};\n",
       "\n",
       "mpl.figure.prototype.handle_close = function(fig, msg) {\n",
       "    var width = fig.canvas.width/mpl.ratio\n",
       "    fig.root.unbind('remove')\n",
       "\n",
       "    // Update the output cell to use the data from the current canvas.\n",
       "    fig.push_to_output();\n",
       "    var dataURL = fig.canvas.toDataURL();\n",
       "    // Re-enable the keyboard manager in IPython - without this line, in FF,\n",
       "    // the notebook keyboard shortcuts fail.\n",
       "    IPython.keyboard_manager.enable()\n",
       "    $(fig.parent_element).html('<img src=\"' + dataURL + '\" width=\"' + width + '\">');\n",
       "    fig.close_ws(fig, msg);\n",
       "}\n",
       "\n",
       "mpl.figure.prototype.close_ws = function(fig, msg){\n",
       "    fig.send_message('closing', msg);\n",
       "    // fig.ws.close()\n",
       "}\n",
       "\n",
       "mpl.figure.prototype.push_to_output = function(remove_interactive) {\n",
       "    // Turn the data on the canvas into data in the output cell.\n",
       "    var width = this.canvas.width/mpl.ratio\n",
       "    var dataURL = this.canvas.toDataURL();\n",
       "    this.cell_info[1]['text/html'] = '<img src=\"' + dataURL + '\" width=\"' + width + '\">';\n",
       "}\n",
       "\n",
       "mpl.figure.prototype.updated_canvas_event = function() {\n",
       "    // Tell IPython that the notebook contents must change.\n",
       "    IPython.notebook.set_dirty(true);\n",
       "    this.send_message(\"ack\", {});\n",
       "    var fig = this;\n",
       "    // Wait a second, then push the new image to the DOM so\n",
       "    // that it is saved nicely (might be nice to debounce this).\n",
       "    setTimeout(function () { fig.push_to_output() }, 1000);\n",
       "}\n",
       "\n",
       "mpl.figure.prototype._init_toolbar = function() {\n",
       "    var fig = this;\n",
       "\n",
       "    var nav_element = $('<div/>')\n",
       "    nav_element.attr('style', 'width: 100%');\n",
       "    this.root.append(nav_element);\n",
       "\n",
       "    // Define a callback function for later on.\n",
       "    function toolbar_event(event) {\n",
       "        return fig.toolbar_button_onclick(event['data']);\n",
       "    }\n",
       "    function toolbar_mouse_event(event) {\n",
       "        return fig.toolbar_button_onmouseover(event['data']);\n",
       "    }\n",
       "\n",
       "    for(var toolbar_ind in mpl.toolbar_items){\n",
       "        var name = mpl.toolbar_items[toolbar_ind][0];\n",
       "        var tooltip = mpl.toolbar_items[toolbar_ind][1];\n",
       "        var image = mpl.toolbar_items[toolbar_ind][2];\n",
       "        var method_name = mpl.toolbar_items[toolbar_ind][3];\n",
       "\n",
       "        if (!name) { continue; };\n",
       "\n",
       "        var button = $('<button class=\"btn btn-default\" href=\"#\" title=\"' + name + '\"><i class=\"fa ' + image + ' fa-lg\"></i></button>');\n",
       "        button.click(method_name, toolbar_event);\n",
       "        button.mouseover(tooltip, toolbar_mouse_event);\n",
       "        nav_element.append(button);\n",
       "    }\n",
       "\n",
       "    // Add the status bar.\n",
       "    var status_bar = $('<span class=\"mpl-message\" style=\"text-align:right; float: right;\"/>');\n",
       "    nav_element.append(status_bar);\n",
       "    this.message = status_bar[0];\n",
       "\n",
       "    // Add the close button to the window.\n",
       "    var buttongrp = $('<div class=\"btn-group inline pull-right\"></div>');\n",
       "    var button = $('<button class=\"btn btn-mini btn-primary\" href=\"#\" title=\"Stop Interaction\"><i class=\"fa fa-power-off icon-remove icon-large\"></i></button>');\n",
       "    button.click(function (evt) { fig.handle_close(fig, {}); } );\n",
       "    button.mouseover('Stop Interaction', toolbar_mouse_event);\n",
       "    buttongrp.append(button);\n",
       "    var titlebar = this.root.find($('.ui-dialog-titlebar'));\n",
       "    titlebar.prepend(buttongrp);\n",
       "}\n",
       "\n",
       "mpl.figure.prototype._root_extra_style = function(el){\n",
       "    var fig = this\n",
       "    el.on(\"remove\", function(){\n",
       "\tfig.close_ws(fig, {});\n",
       "    });\n",
       "}\n",
       "\n",
       "mpl.figure.prototype._canvas_extra_style = function(el){\n",
       "    // this is important to make the div 'focusable\n",
       "    el.attr('tabindex', 0)\n",
       "    // reach out to IPython and tell the keyboard manager to turn it's self\n",
       "    // off when our div gets focus\n",
       "\n",
       "    // location in version 3\n",
       "    if (IPython.notebook.keyboard_manager) {\n",
       "        IPython.notebook.keyboard_manager.register_events(el);\n",
       "    }\n",
       "    else {\n",
       "        // location in version 2\n",
       "        IPython.keyboard_manager.register_events(el);\n",
       "    }\n",
       "\n",
       "}\n",
       "\n",
       "mpl.figure.prototype._key_event_extra = function(event, name) {\n",
       "    var manager = IPython.notebook.keyboard_manager;\n",
       "    if (!manager)\n",
       "        manager = IPython.keyboard_manager;\n",
       "\n",
       "    // Check for shift+enter\n",
       "    if (event.shiftKey && event.which == 13) {\n",
       "        this.canvas_div.blur();\n",
       "        event.shiftKey = false;\n",
       "        // Send a \"J\" for go to next cell\n",
       "        event.which = 74;\n",
       "        event.keyCode = 74;\n",
       "        manager.command_mode();\n",
       "        manager.handle_keydown(event);\n",
       "    }\n",
       "}\n",
       "\n",
       "mpl.figure.prototype.handle_save = function(fig, msg) {\n",
       "    fig.ondownload(fig, null);\n",
       "}\n",
       "\n",
       "\n",
       "mpl.find_output_cell = function(html_output) {\n",
       "    // Return the cell and output element which can be found *uniquely* in the notebook.\n",
       "    // Note - this is a bit hacky, but it is done because the \"notebook_saving.Notebook\"\n",
       "    // IPython event is triggered only after the cells have been serialised, which for\n",
       "    // our purposes (turning an active figure into a static one), is too late.\n",
       "    var cells = IPython.notebook.get_cells();\n",
       "    var ncells = cells.length;\n",
       "    for (var i=0; i<ncells; i++) {\n",
       "        var cell = cells[i];\n",
       "        if (cell.cell_type === 'code'){\n",
       "            for (var j=0; j<cell.output_area.outputs.length; j++) {\n",
       "                var data = cell.output_area.outputs[j];\n",
       "                if (data.data) {\n",
       "                    // IPython >= 3 moved mimebundle to data attribute of output\n",
       "                    data = data.data;\n",
       "                }\n",
       "                if (data['text/html'] == html_output) {\n",
       "                    return [cell, data, j];\n",
       "                }\n",
       "            }\n",
       "        }\n",
       "    }\n",
       "}\n",
       "\n",
       "// Register the function which deals with the matplotlib target/channel.\n",
       "// The kernel may be null if the page has been refreshed.\n",
       "if (IPython.notebook.kernel != null) {\n",
       "    IPython.notebook.kernel.comm_manager.register_target('matplotlib', mpl.mpl_figure_comm);\n",
       "}\n"
      ],
      "text/plain": [
       "<IPython.core.display.Javascript object>"
      ]
     },
     "metadata": {},
     "output_type": "display_data"
    },
    {
     "data": {
      "text/html": [
       "<img src=\"data:image/png;base64,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\" width=\"899.2499732002624\">"
      ],
      "text/plain": [
       "<IPython.core.display.HTML object>"
      ]
     },
     "metadata": {},
     "output_type": "display_data"
    },
    {
     "name": "stdout",
     "output_type": "stream",
     "text": [
      "batch 0 - loss: 5.261405\n",
      "    expected  > [48 31 52  1  0  0  0  0  0]\n",
      "    predicted > [49 49 49 49 49 49 49 49 49 49 49 49]\n",
      "    expected  > [12 47 29 35 31  1  0  0  0]\n",
      "    predicted > [49 49 49 49 49 49 49 49 49 49 49 49]\n",
      "\n",
      "batch 1500 - loss: 5.5008192\n",
      "    expected  > [47 28 35 38 27  1  0  0  0]\n",
      "    predicted > [49 49 49 49 49 49 49 49 49 49 49 49]\n",
      "    expected  > [26 28 51 45 31 37  1  0  0]\n",
      "    predicted > [49 49 49 49 49 49 49 49 49 49 49 49]\n",
      "\n",
      "batch 3000 - loss: 4.4434195\n",
      "    expected  > [45 46 41 47 42 27  1  0]\n",
      "    predicted > [52 46 48 41 42 31  1  1]\n",
      "    expected  > [44 31 37 38 27 39 51  1]\n",
      "    predicted > [35 31 31 48 31 31  1  1]\n",
      "\n",
      "batch 4500 - loss: 2.6109536\n",
      "    expected  > [33 31 40 46 47 44 41 47  1]\n",
      "    predicted > [36 47 30 48 40 48 48  1  1  1]\n",
      "    expected  > [ 4 35 46 27  1  0  0  0  0]\n",
      "    predicted > [16 41 30 46 47  1  1  1  1  1]\n",
      "\n",
      "batch 6000 - loss: 2.5193079\n",
      "    expected  > [42 41 46 44 31 38 35  1]\n",
      "    predicted > [42 27 46 35 31 31 31  1  1  1]\n",
      "    expected  > [41 42 35 29 31  1  0  0]\n",
      "    predicted > [42 35 35 31  1  1  1  1  1  1]\n",
      "\n",
      "batch 7500 - loss: 1.8490351\n",
      "    expected  > [46 41 40  1  0  0  0]\n",
      "    predicted > [46 27 40  1  1  1]\n",
      "    expected  > [45 41 37  1  0  0  0]\n",
      "    predicted > [45 41 37  1  1  1]\n",
      "\n",
      "batch 9000 - loss: 2.1588945\n",
      "    expected  > [45 41 37  1  0  0  0]\n",
      "    predicted > [45 31 37  1  1  1  1]\n",
      "    expected  > [ 9 40 33 44 35 30  1]\n",
      "    predicted > [ 2 41 33 27 30 27  1]\n",
      "\n",
      "batch 10500 - loss: 3.165123\n",
      "    expected  > [52 31 45 38 27 28 31 40 35  1]\n",
      "    predicted > [31 31 37 27 27 31  1  1  1  1  1]\n",
      "    expected  > [30 35 48 40 31  1  0  0  0  0]\n",
      "    predicted > [30 35 48 40 35  1  1  1  1  1  1]\n",
      "\n",
      "batch 12000 - loss: 3.5023584\n",
      "    expected  > [52 38 47 46 27  1  0  0  0  0]\n",
      "    predicted > [45 27 38 47 47 46  1  1  1  1]\n",
      "    expected  > [39 41 52 37 41 48 31  1  0  0]\n",
      "    predicted > [40 41 34 31 48 35  1  1  1  1]\n",
      "\n",
      "batch 13500 - loss: 3.5816748\n",
      "    expected  > [48 31 52  1  0  0  0  0  0]\n",
      "    predicted > [48 31 29  1  1  1  1  1]\n",
      "    expected  > [48  1  0  0  0  0  0  0  0]\n",
      "    predicted > [41  1  1  1  1  1  1  1]\n",
      "\n",
      "batch 15000 - loss: 3.9488187\n",
      "    expected  > [28 44 35 46 27 40 35 31  1  0  0  0]\n",
      "    predicted > [46 31 46 31 39 35 45 35  1]\n",
      "    expected  > [41 34 44 35 48 27 40 35  1  0  0  0]\n",
      "    predicted > [41 46 44 35 44 35  1  1  1]\n",
      "\n",
      "batch 16500 - loss: 2.804522\n",
      "    expected  > [42 41 46 44 27 48 51  1]\n",
      "    predicted > [42 41 46 41 48 52 48 48  1]\n",
      "    expected  > [12 47 29 35 31  1  0  0]\n",
      "    predicted > [30 44 27 35 31  1  1  1  1]\n",
      "\n",
      "batch 18000 - loss: 1.8574617\n",
      "    expected  > [37 41 45  1  0  0  0]\n",
      "    predicted > [37 41 52  1  1  1  1]\n",
      "    expected  > [45 47 37  1  0  0  0]\n",
      "    predicted > [47 41 37  1  1  1  1]\n",
      "\n",
      "batch 19500 - loss: 3.9021566\n",
      "    expected  > [41 42 35 29 31  1  0  0]\n",
      "    predicted > [42 42 27 40 47  1  1  1]\n",
      "    expected  > [52 27 36 39 47  1  0  0]\n",
      "    predicted > [45 31 51 36 40 40  1  1]\n",
      "\n",
      "Training interrupted, model saved.\n"
     ]
    },
    {
     "data": {
      "text/plain": [
       "'models/word-clas/en/SeqRNN/Classifier'"
      ]
     },
     "execution_count": 22,
     "metadata": {},
     "output_type": "execute_result"
    }
   ],
   "source": [
    "sess.run(tf.global_variables_initializer())\n",
    "saver = tf.train.Saver()\n",
    "\n",
    "# Creat plot for live stats ploting\n",
    "trainPlot = TrainingPlot(TRAIN_STEPS, TEST_ITER, LOSS_ITER)\n",
    "\n",
    "try:\n",
    "    for i_batch in range(TRAIN_STEPS):\n",
    "        # Three steps (can overflow): 1. train letters, 2. train words on known letter 3. combine\n",
    "        is_words_, is_train_ = (True, True)\n",
    "        if i_batch < 2000 or i_batch % 2 == 0:    # 5000\n",
    "            is_words_, is_train_ = (False, True)\n",
    "        elif i_batch < 3000:                      # 12000\n",
    "            is_words_, is_train_ = (True, True)\n",
    "        elif i_batch % 4 == 3:\n",
    "            is_words_, is_train_ = (True, False)\n",
    "\n",
    "        fd = train_iterator.next_feed(BATCH_SIZE, words=is_words_, train=is_train_)\n",
    "        train_step.run(fd)\n",
    "        \n",
    "        if i_batch % LOSS_ITER == 0:\n",
    "            # Plotting loss\n",
    "            tmpLoss = loss.eval(fd)\n",
    "            trainPlot.updateCost(tmpLoss, i_batch // LOSS_ITER)\n",
    "    \n",
    "        if i_batch % TEST_ITER == 0:\n",
    "            # Plotting accuracy\n",
    "            fd_test = test_iterator.next_feed(BATCH_SIZE)\n",
    "            fd = train_iterator.next_feed(BATCH_SIZE, words=True, train=False)\n",
    "            accTest = accuracy.eval(fd_test)\n",
    "            accTrain = accuracy.eval(fd)\n",
    "            trainPlot.updateAcc(accTest, accTrain, i_batch // TEST_ITER)\n",
    "\n",
    "        if i_batch % SAVE_ITER == 0:\n",
    "            saver.save(sess, save_location)\n",
    "        \n",
    "        if i_batch % EPOCH == 0:\n",
    "            fd_test = test_iterator.next_feed(BATCH_SIZE)\n",
    "#             print('batch %r - loss: %r' % (i_batch, sess.run(loss, fd_test)))\n",
    "#             predict_, target_ = sess.run([letter_prediction_infer, letter_targets], fd_test)\n",
    "#             for i, (inp, pred) in enumerate(zip(target_, predict_)):\n",
    "#                 implt(inp[0].reshape((64, 64)), 'gray', t=\"Expected\")\n",
    "#                 implt(pred[0].reshape((64, 64)), 'gray', t=\"Predicted\")\n",
    "#                 if i >= 1:\n",
    "#                     break\n",
    "            print('batch %r - loss: %r' % (i_batch, sess.run(loss, fd_test)))\n",
    "            predict_, target_ = sess.run([word_prediction, word_targets], fd_test)\n",
    "            for i, (inp, pred) in enumerate(zip(target_, predict_)):\n",
    "                print('    expected  > {}'.format(inp))\n",
    "                print('    predicted > {}'.format(pred))\n",
    "                if i >= 1:\n",
    "                    break\n",
    "            print()\n",
    "\n",
    "except KeyboardInterrupt:\n",
    "    print('Training interrupted, model saved.')\n",
    "    \n",
    "saver.save(sess, save_location)"
   ]
  },
  {
   "cell_type": "code",
   "execution_count": 23,
   "metadata": {},
   "outputs": [
    {
     "name": "stdout",
     "output_type": "stream",
     "text": [
      "Expected images: 4\n"
     ]
    },
    {
     "data": {
      "image/png": "[encoded data removed]",
      "text/plain": [
       "<matplotlib.figure.Figure at 0x7f8643bc8b00>"
      ]
     },
     "metadata": {},
     "output_type": "display_data"
    },
    {
     "data": {
      "image/png": "[encoded data removed]",
      "text/plain": [
       "<matplotlib.figure.Figure at 0x7f8633486ef0>"
      ]
     },
     "metadata": {},
     "output_type": "display_data"
    },
    {
     "data": {
      "image/png": "[encoded data removed]",
      "text/plain": [
       "<matplotlib.figure.Figure at 0x7f86333cb908>"
      ]
     },
     "metadata": {},
     "output_type": "display_data"
    },
    {
     "data": {
      "image/png": "[encoded data removed]",
      "text/plain": [
       "<matplotlib.figure.Figure at 0x7f86395d3c50>"
      ]
     },
     "metadata": {},
     "output_type": "display_data"
    },
    {
     "data": {
      "image/png": "[encoded data removed]",
      "text/plain": [
       "<matplotlib.figure.Figure at 0x7f8633423ba8>"
      ]
     },
     "metadata": {},
     "output_type": "display_data"
    },
    {
     "data": {
      "image/png": "[encoded data removed]",
      "text/plain": [
       "<matplotlib.figure.Figure at 0x7f8633374860>"
      ]
     },
     "metadata": {},
     "output_type": "display_data"
    },
    {
     "data": {
      "image/png": "[encoded data removed]",
      "text/plain": [
       "<matplotlib.figure.Figure at 0x7f86334bda58>"
      ]
     },
     "metadata": {},
     "output_type": "display_data"
    },
    {
     "data": {
      "image/png": "[encoded data removed]",
      "text/plain": [
       "<matplotlib.figure.Figure at 0x7f86333f4048>"
      ]
     },
     "metadata": {},
     "output_type": "display_data"
    },
    {
     "name": "stdout",
     "output_type": "stream",
     "text": [
      "Predicted images: 4\n"
     ]
    },
    {
     "data": {
      "image/png": "[encoded data removed]",
      "text/plain": [
       "<matplotlib.figure.Figure at 0x7f86393ed588>"
      ]
     },
     "metadata": {},
     "output_type": "display_data"
    },
    {
     "data": {
      "image/png": "[encoded data removed]",
      "text/plain": [
       "<matplotlib.figure.Figure at 0x7f863336a630>"
      ]
     },
     "metadata": {},
     "output_type": "display_data"
    },
    {
     "data": {
      "image/png": "[encoded data removed]",
      "text/plain": [
       "<matplotlib.figure.Figure at 0x7f8639161748>"
      ]
     },
     "metadata": {},
     "output_type": "display_data"
    },
    {
     "data": {
      "image/png": "[encoded data removed]",
      "text/plain": [
       "<matplotlib.figure.Figure at 0x7f8639401550>"
      ]
     },
     "metadata": {},
     "output_type": "display_data"
    },
    {
     "data": {
      "image/png": "[encoded data removed]",
      "text/plain": [
       "<matplotlib.figure.Figure at 0x7f86392ea828>"
      ]
     },
     "metadata": {},
     "output_type": "display_data"
    },
    {
     "data": {
      "image/png": "[encoded data removed]",
      "text/plain": [
       "<matplotlib.figure.Figure at 0x7f86387c7860>"
      ]
     },
     "metadata": {},
     "output_type": "display_data"
    },
    {
     "data": {
      "image/png": "[encoded data removed]",
      "text/plain": [
       "<matplotlib.figure.Figure at 0x7f8638728748>"
      ]
     },
     "metadata": {},
     "output_type": "display_data"
    },
    {
     "data": {
      "image/png": "[encoded data removed]",
      "text/plain": [
       "<matplotlib.figure.Figure at 0x7f86390906a0>"
      ]
     },
     "metadata": {},
     "output_type": "display_data"
    },
    {
     "name": "stdout",
     "output_type": "stream",
     "text": [
      "Expected images: 3\n"
     ]
    },
    {
     "data": {
      "image/png": "[encoded data removed]",
      "text/plain": [
       "<matplotlib.figure.Figure at 0x7f863865f400>"
      ]
     },
     "metadata": {},
     "output_type": "display_data"
    },
    {
     "data": {
      "image/png": "[encoded data removed]",
      "text/plain": [
       "<matplotlib.figure.Figure at 0x7f863864e898>"
      ]
     },
     "metadata": {},
     "output_type": "display_data"
    },
    {
     "data": {
      "image/png": "[encoded data removed]",
      "text/plain": [
       "<matplotlib.figure.Figure at 0x7f86385ae748>"
      ]
     },
     "metadata": {},
     "output_type": "display_data"
    },
    {
     "data": {
      "image/png": "[encoded data removed]",
      "text/plain": [
       "<matplotlib.figure.Figure at 0x7f86386d46a0>"
      ]
     },
     "metadata": {},
     "output_type": "display_data"
    },
    {
     "data": {
      "image/png": "[encoded data removed]",
      "text/plain": [
       "<matplotlib.figure.Figure at 0x7f8638635828>"
      ]
     },
     "metadata": {},
     "output_type": "display_data"
    },
    {
     "data": {
      "image/png": "[encoded data removed]",
      "text/plain": [
       "<matplotlib.figure.Figure at 0x7f86384d2860>"
      ]
     },
     "metadata": {},
     "output_type": "display_data"
    },
    {
     "data": {
      "image/png": "[encoded data removed]",
      "text/plain": [
       "<matplotlib.figure.Figure at 0x7f8638431748>"
      ]
     },
     "metadata": {},
     "output_type": "display_data"
    },
    {
     "data": {
      "image/png": "[encoded data removed]",
      "text/plain": [
       "<matplotlib.figure.Figure at 0x7f86385596a0>"
      ]
     },
     "metadata": {},
     "output_type": "display_data"
    },
    {
     "data": {
      "image/png": "[encoded data removed]",
      "text/plain": [
       "<matplotlib.figure.Figure at 0x7f86384b8860>"
      ]
     },
     "metadata": {},
     "output_type": "display_data"
    },
    {
     "data": {
      "image/png": "[encoded data removed]",
      "text/plain": [
       "<matplotlib.figure.Figure at 0x7f8638357860>"
      ]
     },
     "metadata": {},
     "output_type": "display_data"
    },
    {
     "data": {
      "image/png": "[encoded data removed]",
      "text/plain": [
       "<matplotlib.figure.Figure at 0x7f86382b8748>"
      ]
     },
     "metadata": {},
     "output_type": "display_data"
    },
    {
     "data": {
      "image/png": "[encoded data removed]",
      "text/plain": [
       "<matplotlib.figure.Figure at 0x7f86383606a0>"
      ]
     },
     "metadata": {},
     "output_type": "display_data"
    },
    {
     "data": {
      "image/png": "[encoded data removed]",
      "text/plain": [
       "<matplotlib.figure.Figure at 0x7f863833f860>"
      ]
     },
     "metadata": {},
     "output_type": "display_data"
    },
    {
     "data": {
      "image/png": "[encoded data removed]",
      "text/plain": [
       "<matplotlib.figure.Figure at 0x7f8638160860>"
      ]
     },
     "metadata": {},
     "output_type": "display_data"
    },
    {
     "name": "stdout",
     "output_type": "stream",
     "text": [
      "Predicted images: 3\n"
     ]
    },
    {
     "data": {
      "image/png": "[encoded data removed]",
      "text/plain": [
       "<matplotlib.figure.Figure at 0x7f8638182550>"
      ]
     },
     "metadata": {},
     "output_type": "display_data"
    },
    {
     "data": {
      "image/png": "[encoded data removed]",
      "text/plain": [
       "<matplotlib.figure.Figure at 0x7f86382d83c8>"
      ]
     },
     "metadata": {},
     "output_type": "display_data"
    },
    {
     "data": {
      "image/png": "[encoded data removed]",
      "text/plain": [
       "<matplotlib.figure.Figure at 0x7f8638083668>"
      ]
     },
     "metadata": {},
     "output_type": "display_data"
    },
    {
     "data": {
      "image/png": "[encoded data removed]",
      "text/plain": [
       "<matplotlib.figure.Figure at 0x7f86381d1668>"
      ]
     },
     "metadata": {},
     "output_type": "display_data"
    },
    {
     "data": {
      "image/png": "[encoded data removed]",
      "text/plain": [
       "<matplotlib.figure.Figure at 0x7f863810f940>"
      ]
     },
     "metadata": {},
     "output_type": "display_data"
    },
    {
     "data": {
      "image/png": "[encoded data removed]",
      "text/plain": [
       "<matplotlib.figure.Figure at 0x7f863806e6a0>"
      ]
     },
     "metadata": {},
     "output_type": "display_data"
    },
    {
     "data": {
      "image/png": "[encoded data removed]",
      "text/plain": [
       "<matplotlib.figure.Figure at 0x7f863804d860>"
      ]
     },
     "metadata": {},
     "output_type": "display_data"
    },
    {
     "data": {
      "image/png": "[encoded data removed]",
      "text/plain": [
       "<matplotlib.figure.Figure at 0x7f863328d860>"
      ]
     },
     "metadata": {},
     "output_type": "display_data"
    },
    {
     "data": {
      "image/png": "[encoded data removed]",
      "text/plain": [
       "<matplotlib.figure.Figure at 0x7f863326c748>"
      ]
     },
     "metadata": {},
     "output_type": "display_data"
    },
    {
     "data": {
      "image/png": "[encoded data removed]",
      "text/plain": [
       "<matplotlib.figure.Figure at 0x7f86333146a0>"
      ]
     },
     "metadata": {},
     "output_type": "display_data"
    },
    {
     "data": {
      "image/png": "[encoded data removed]",
      "text/plain": [
       "<matplotlib.figure.Figure at 0x7f86332f4860>"
      ]
     },
     "metadata": {},
     "output_type": "display_data"
    },
    {
     "data": {
      "image/png": "[encoded data removed]",
      "text/plain": [
       "<matplotlib.figure.Figure at 0x7f8633113860>"
      ]
     },
     "metadata": {},
     "output_type": "display_data"
    },
    {
     "data": {
      "image/png": "[encoded data removed]",
      "text/plain": [
       "<matplotlib.figure.Figure at 0x7f86330f2748>"
      ]
     },
     "metadata": {},
     "output_type": "display_data"
    },
    {
     "data": {
      "image/png": "[encoded data removed]",
      "text/plain": [
       "<matplotlib.figure.Figure at 0x7f86331996a0>"
      ]
     },
     "metadata": {},
     "output_type": "display_data"
    }
   ],
   "source": [
    "%matplotlib inline\n",
    "\n",
    "def evalLetters(feed):\n",
    "    predict_, target_, predict_lengths_, target_lengths_ = sess.run(\n",
    "        [letter_prediction_infer,\n",
    "         letter_targets,\n",
    "         final_seq_lengths,\n",
    "         letter_targets_length],\n",
    "        feed)\n",
    "    for i, (inp, pred) in enumerate(zip(target_, predict_)):\n",
    "        print(\"Expected images:\", target_lengths_[i])\n",
    "        for x in range(len(inp)):\n",
    "            implt(inp[x].reshape((64, 64)), 'gray')\n",
    "        print(\"Predicted images:\", predict_lengths_[i])\n",
    "        for x in range(len(pred)):\n",
    "            implt(pred[x].reshape((64, 64)), 'gray')\n",
    "        if i >= 0:\n",
    "            break\n",
    "            \n",
    "fd_test = test_iterator.next_feed(BATCH_SIZE)\n",
    "fd = train_iterator.next_feed(BATCH_SIZE, words=False, train=False)\n",
    "\n",
    "evalLetters(fd_test)\n",
    "evalLetters(fd)"
   ]
  }
 ],
 "metadata": {
  "kernelspec": {
   "display_name": "Python 3",
   "language": "python",
   "name": "python3"
  },
  "language_info": {
   "codemirror_mode": {
    "name": "ipython",
    "version": 3
   },
   "file_extension": ".py",
   "mimetype": "text/x-python",
   "name": "python",
   "nbconvert_exporter": "python",
   "pygments_lexer": "ipython3",
   "version": "3.6.3"
  }
 },
 "nbformat": 4,
 "nbformat_minor": 2
}

{
 "cells": [
  {
   "cell_type": "markdown",
   "metadata": {},
   "source": [
    "# Character Classification\n",
    "This notebook contains all steps of OCR"
   ]
  },
  {
   "cell_type": "code",
   "execution_count": 7,
   "metadata": {},
   "outputs": [],
   "source": [
    "import numpy as np\n",
    "import pandas as pd\n",
    "import matplotlib.pyplot as plt\n",
    "import tensorflow as tf\n",
    "import cv2\n",
    "\n",
    "# Import Widgets\n",
    "from ipywidgets import Button, Text, HBox, VBox\n",
    "from IPython.display import display, clear_output\n",
    "\n",
    "# Import costume functions, corresponding to notebooks\n",
    "#from ocr import page, words, charSeg\n",
    "from ocr.normalization import letterNorm\n",
    "from ocr import charSeg\n",
    "# Helpers\n",
    "from ocr.helpers import implt, resize\n",
    "from ocr.datahelpers import loadWordsData, char2idx, idx2char\n",
    "from ocr.tfhelpers import Graph"
   ]
  },
  {
   "cell_type": "markdown",
   "metadata": {},
   "source": [
    "### Global Variables"
   ]
  },
  {
   "cell_type": "code",
   "execution_count": 8,
   "metadata": {
    "collapsed": true
   },
   "outputs": [],
   "source": [
    "# Settings\n",
    "LANG = 'cz'\n",
    "LOC = 'models/char-clas/' + LANG + '/CharClassifier'"
   ]
  },
  {
   "cell_type": "markdown",
   "metadata": {},
   "source": [
    "## Load Trained Model"
   ]
  },
  {
   "cell_type": "code",
   "execution_count": 9,
   "metadata": {},
   "outputs": [
    {
     "name": "stdout",
     "output_type": "stream",
     "text": [
      "INFO:tensorflow:Restoring parameters from models/char-clas/cz/CharClassifier\n"
     ]
    }
   ],
   "source": [
    "charClass = Graph(LOC)"
   ]
  },
  {
   "cell_type": "markdown",
   "metadata": {},
   "source": [
    "## Load image"
   ]
  },
  {
   "cell_type": "code",
   "execution_count": 10,
   "metadata": {},
   "outputs": [
    {
     "name": "stdout",
     "output_type": "stream",
     "text": [
      "Loading words...\n",
      "-> Number of words: 235\n"
     ]
    }
   ],
   "source": [
    "images, labels = loadWordsData('data/test_words', loadGaplines=False)"
   ]
  },
  {
   "cell_type": "markdown",
   "metadata": {},
   "source": [
    "# Simple UI using widgets"
   ]
  },
  {
   "cell_type": "code",
   "execution_count": 11,
   "metadata": {
    "collapsed": true
   },
   "outputs": [],
   "source": [
    "class Cycler:\n",
    "    \"\"\" Cycle through the words and recognise them \"\"\" \n",
    "    def __init__(self, images, labels, charClass, gapRNN=False, charRNN=False):\n",
    "        self.images = images\n",
    "        self.labels = labels\n",
    "        self.charClass = charClass\n",
    "        self.gapRNN = gapRNN\n",
    "        self.charRNN = charRNN\n",
    "        print(labels[0], ':', self.recogniseWord(images[0]))\n",
    "        \n",
    "    def recogniseWord(self, img):\n",
    "        img = cv2.copyMakeBorder(img, 0, 0, 15, 15,\n",
    "                                 cv2.BORDER_CONSTANT,\n",
    "                                 value=[0, 0, 0])\n",
    "        gaps = charSeg.segmentation(img, RNN=self.gapRNN)\n",
    "        print(gaps)\n",
    "        \n",
    "        chars = []\n",
    "        for i in range(len(gaps)-1):\n",
    "            char = img[:, gaps[i]:gaps[i+1]]\n",
    "            char, dim = letterNorm(char, dim=True)\n",
    "            # TODO Test different values\n",
    "            if dim[0] > 7 and dim[1] > 7:\n",
    "                chars.append(char.flatten())\n",
    "                \n",
    "        chars = np.array(chars)\n",
    "        \n",
    "        if self.charRNN:\n",
    "            pred = self.charClass.eval_feed({'inputs:0': chars,\n",
    "                                             'length:0': [len(chars)]})\n",
    "        else:\n",
    "            pred = self.charClass.run(chars)\n",
    "        \n",
    "        word = ''\n",
    "        for c in pred:\n",
    "            # word += CHARS[charIdx]\n",
    "            word += idx2char(c)\n",
    "        return word\n",
    "        \n",
    "\n",
    "    def evaluate(self):\n",
    "        \"\"\" Evaluate accuracy of the word classification \"\"\"\n",
    "        pass"
   ]
  },
  {
   "cell_type": "code",
   "execution_count": 12,
   "metadata": {},
   "outputs": [
    {
     "name": "stdout",
     "output_type": "stream",
     "text": [
      "[17, 46, 87, 125]\n",
      "Zda : pda\n"
     ]
    }
   ],
   "source": [
    "# Class cycling through words\n",
    "cycler = Cycler(images,\n",
    "                labels,\n",
    "                charClass,\n",
    "                gapRNN=False,\n",
    "                charRNN=False)"
   ]
  }
 ],
 "metadata": {
  "kernelspec": {
   "display_name": "Python 3",
   "language": "python",
   "name": "python3"
  },
  "language_info": {
   "codemirror_mode": {
    "name": "ipython",
    "version": 3
   },
   "file_extension": ".py",
   "mimetype": "text/x-python",
   "name": "python",
   "nbconvert_exporter": "python",
   "pygments_lexer": "ipython3",
   "version": "3.6.2"
  }
 },
 "nbformat": 4,
 "nbformat_minor": 1
}
